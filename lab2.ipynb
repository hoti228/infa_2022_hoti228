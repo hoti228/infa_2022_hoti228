{
  "cells": [
    {
      "cell_type": "markdown",
      "id": "5e2169fa",
      "metadata": {
        "id": "5e2169fa"
      },
      "source": [
        "## Двумерные списки"
      ]
    },
    {
      "cell_type": "markdown",
      "id": "24411da1",
      "metadata": {
        "id": "24411da1"
      },
      "source": [
        "\"Двумерный список\" — это обычный список, элементами которого являются списки. Такой термин удобен для нас, но для Python нет разницы между одномерными и двумерными списками. В частности, нечто такое вообще будет являться промежуточным: `[1, [2, 3, 4], 5]`\n",
        "\n",
        "Создадим список и рассмотрим обращение к элементам."
      ]
    },
    {
      "cell_type": "code",
      "execution_count": null,
      "id": "bdba992b",
      "metadata": {
        "id": "bdba992b"
      },
      "outputs": [],
      "source": [
        "a = [[1, 2, 3], [4, 5, 6]]\n",
        "print(*a)\n",
        "print(a[1])\n",
        "print(a[1][0])\n",
        "print(a[-1][-1])"
      ]
    },
    {
      "cell_type": "code",
      "execution_count": null,
      "id": "29994282",
      "metadata": {
        "id": "29994282"
      },
      "outputs": [],
      "source": [
        "for i in range(len(a)):\n",
        "    print(*a[i])"
      ]
    },
    {
      "cell_type": "markdown",
      "id": "b88a9954",
      "metadata": {
        "id": "b88a9954"
      },
      "source": [
        "Для создания списка можем использовать генераторы:"
      ]
    },
    {
      "cell_type": "code",
      "execution_count": null,
      "id": "4a2fb96f",
      "metadata": {
        "id": "4a2fb96f"
      },
      "outputs": [],
      "source": [
        "a = [[1, 2, 3] for i in range(4)]\n",
        "for i in range(len(a)):\n",
        "    print(*a[i])"
      ]
    },
    {
      "cell_type": "code",
      "execution_count": null,
      "id": "4f287c52",
      "metadata": {
        "id": "4f287c52"
      },
      "outputs": [],
      "source": [
        "a = [[i, i+1, i+2] for i in range(4)]\n",
        "for i in range(len(a)):\n",
        "    print(*a[i])"
      ]
    },
    {
      "cell_type": "code",
      "execution_count": null,
      "id": "f739ed7d",
      "metadata": {
        "id": "f739ed7d"
      },
      "outputs": [],
      "source": [
        "for x in a:\n",
        "    print(*x)"
      ]
    },
    {
      "cell_type": "code",
      "execution_count": null,
      "id": "9a48cf74",
      "metadata": {
        "id": "9a48cf74"
      },
      "outputs": [],
      "source": [
        "print(a)"
      ]
    },
    {
      "cell_type": "markdown",
      "id": "11dad1dc",
      "metadata": {
        "id": "11dad1dc"
      },
      "source": [
        "Вот пример создания списка списков при помощи генератора списка, *вложенного* в генератор списка:"
      ]
    },
    {
      "cell_type": "code",
      "execution_count": null,
      "id": "dead9401",
      "metadata": {
        "id": "dead9401",
        "outputId": "ef16a872-b2ec-4b1c-c023-c146cf4c73dc"
      },
      "outputs": [
        {
          "name": "stdout",
          "output_type": "stream",
          "text": [
            "0 1 2 3 4\n",
            "0 1 2 3 4\n",
            "0 1 2 3 4\n",
            "0 1 2 3 4\n",
            "0 1 2 3 4\n"
          ]
        }
      ],
      "source": [
        "a = [[j for j in range(5)] for i in range(5)]\n",
        "for x in a:\n",
        "    print(*x)"
      ]
    },
    {
      "cell_type": "markdown",
      "id": "02e09442",
      "metadata": {
        "id": "02e09442"
      },
      "source": [
        "**Упражнение:** создайте двумерный список. Заполните его следующим образом: значение элемента - номер его строки."
      ]
    },
    {
      "cell_type": "code",
      "execution_count": null,
      "id": "18ede4a8",
      "metadata": {
        "id": "18ede4a8",
        "outputId": "13357660-ac1c-4a2b-cb66-db7c7c338a17"
      },
      "outputs": [
        {
          "name": "stdout",
          "output_type": "stream",
          "text": [
            "[[0, 'b'], [1, 'b'], [2, 'b'], [3, 'b'], [4, 'b']]\n"
          ]
        }
      ],
      "source": [
        "d = 0\n",
        "x = [[i, 'b'] for i in range(5)]\n",
        "print(x)"
      ]
    },
    {
      "cell_type": "markdown",
      "id": "16ce173d",
      "metadata": {
        "id": "16ce173d"
      },
      "source": [
        "**Пример.** Напечатаем таблицу умножения $10*10$:"
      ]
    },
    {
      "cell_type": "code",
      "execution_count": null,
      "id": "9b197df4",
      "metadata": {
        "id": "9b197df4"
      },
      "outputs": [],
      "source": [
        "n, m = 10, 10\n",
        "a = [[i * j for j in range(1, m + 1)] for i in range(1, n + 1)]\n",
        "for x in a:\n",
        "    print(*x)"
      ]
    },
    {
      "cell_type": "markdown",
      "id": "7b1d9a77",
      "metadata": {
        "id": "7b1d9a77"
      },
      "source": [
        "## Тип bool. Оператор in. Еще раз про if."
      ]
    },
    {
      "cell_type": "markdown",
      "id": "e683d3d8",
      "metadata": {
        "id": "e683d3d8"
      },
      "source": [
        "Еще один базовый тип данных — это `bool`. Переменные такого типа могут принимать только 2 значения: `True` и `False`."
      ]
    },
    {
      "cell_type": "code",
      "execution_count": null,
      "id": "655cb743",
      "metadata": {
        "id": "655cb743"
      },
      "outputs": [],
      "source": [
        "print(1 > 0)"
      ]
    },
    {
      "cell_type": "code",
      "execution_count": null,
      "id": "949f364b",
      "metadata": {
        "id": "949f364b"
      },
      "outputs": [],
      "source": [
        "a = 1 > 0\n",
        "print(a)"
      ]
    },
    {
      "cell_type": "code",
      "execution_count": null,
      "id": "a9d556fc",
      "metadata": {
        "id": "a9d556fc"
      },
      "outputs": [],
      "source": [
        "b = 1 < 0\n",
        "print(b)"
      ]
    },
    {
      "cell_type": "code",
      "execution_count": null,
      "id": "62ffde28",
      "metadata": {
        "id": "62ffde28"
      },
      "outputs": [],
      "source": [
        "print(a * 5)\n",
        "print(b * 3)"
      ]
    },
    {
      "cell_type": "markdown",
      "id": "d33283e9",
      "metadata": {
        "id": "d33283e9"
      },
      "source": [
        "Именно тип `bool` используется в каскадной конструкции `if elif ... else`:"
      ]
    },
    {
      "cell_type": "code",
      "execution_count": null,
      "id": "44b85637",
      "metadata": {
        "id": "44b85637"
      },
      "outputs": [],
      "source": [
        "if 1 > 0:\n",
        "    print(2)"
      ]
    },
    {
      "cell_type": "markdown",
      "id": "ec682419",
      "metadata": {
        "id": "ec682419"
      },
      "source": [
        "Существует приведение типов. Любое число, отличное от нуля с логической точки зрения — `True`, нуль воспринимается как `False`"
      ]
    },
    {
      "cell_type": "code",
      "execution_count": null,
      "id": "e34f6f82",
      "metadata": {
        "id": "e34f6f82"
      },
      "outputs": [],
      "source": [
        "if 5:\n",
        "    print(2)\n",
        "else:\n",
        "    print(\"!\")"
      ]
    },
    {
      "cell_type": "code",
      "execution_count": null,
      "id": "5ca698d5",
      "metadata": {
        "id": "5ca698d5"
      },
      "outputs": [],
      "source": [
        "if 0:\n",
        "    print(4)\n",
        "else:\n",
        "    print(\"!\")"
      ]
    },
    {
      "cell_type": "code",
      "execution_count": null,
      "id": "c655994b",
      "metadata": {
        "id": "c655994b"
      },
      "outputs": [],
      "source": [
        "for i in [1, 2, 3, 4, 5]:\n",
        "    print(i)"
      ]
    },
    {
      "cell_type": "markdown",
      "id": "b92e2643",
      "metadata": {
        "id": "b92e2643"
      },
      "source": [
        "### Оператор `in`\n",
        "Лексема `in` может быть использована не только как часть синтаксической конструкции цикла `for`, но и как *оператор* для проверки принадлежности элемента итерируемому объекту:"
      ]
    },
    {
      "cell_type": "code",
      "execution_count": null,
      "id": "27cce21b",
      "metadata": {
        "id": "27cce21b"
      },
      "outputs": [],
      "source": [
        "print(4 in [1, 2, 3, 4, 5])\n",
        "print(6 in [1, 2, 3, 4, 5])"
      ]
    },
    {
      "cell_type": "code",
      "execution_count": null,
      "id": "6c1545be",
      "metadata": {
        "id": "6c1545be"
      },
      "outputs": [],
      "source": [
        "print(4 in range(1, 6))\n",
        "print(6 in range(1, 6))"
      ]
    },
    {
      "cell_type": "code",
      "execution_count": null,
      "id": "256067bf",
      "metadata": {
        "id": "256067bf"
      },
      "outputs": [],
      "source": [
        "print(\"b\" in \"abc\")\n",
        "print(\"B\" in \"abc\")"
      ]
    },
    {
      "cell_type": "markdown",
      "id": "5fb27cad",
      "metadata": {
        "id": "5fb27cad"
      },
      "source": [
        "## Функции, возвращающие значение\n",
        "Функции — это вспомогательные алгоритмы. "
      ]
    },
    {
      "cell_type": "markdown",
      "id": "57f88b90",
      "metadata": {
        "id": "57f88b90"
      },
      "source": [
        "###  Логическое значение как результат работы функции\n",
        "Ниже описаны три аналогичных функции. Прочитайте их тела и объясните почему они работают одинаково.\n",
        "Какая из них вам больше нравится?"
      ]
    },
    {
      "cell_type": "code",
      "execution_count": null,
      "id": "ef4f059c",
      "metadata": {
        "id": "ef4f059c"
      },
      "outputs": [],
      "source": [
        "def is_positive(x):\n",
        "    if x > 0:\n",
        "        return True\n",
        "    else:\n",
        "        return False\n",
        "    \n",
        "print(is_positive(5))\n",
        "print(is_positive(-5))"
      ]
    },
    {
      "cell_type": "code",
      "execution_count": null,
      "id": "dcdef58f",
      "metadata": {
        "id": "dcdef58f"
      },
      "outputs": [],
      "source": [
        "def is_positive(x):\n",
        "    if x > 0:\n",
        "        return True\n",
        "    return False\n",
        "\n",
        "print(is_positive(5))\n",
        "print(is_positive(-5))"
      ]
    },
    {
      "cell_type": "code",
      "execution_count": null,
      "id": "b0431287",
      "metadata": {
        "id": "b0431287"
      },
      "outputs": [],
      "source": [
        "def is_positive(x):\n",
        "    return x > 0\n",
        "\n",
        "print(is_positive(5))\n",
        "print(is_positive(-5))"
      ]
    },
    {
      "cell_type": "markdown",
      "id": "2c47bf96",
      "metadata": {
        "id": "2c47bf96"
      },
      "source": [
        "## Функции как аргументы функций map и filter\n",
        "Для поэлементной обработки любого итерируемого объекта можно использовать функции `map` и `filter`:"
      ]
    },
    {
      "cell_type": "code",
      "execution_count": null,
      "id": "f8670a5b",
      "metadata": {
        "id": "f8670a5b"
      },
      "outputs": [],
      "source": [
        "a = \"1 2 -3 4 -5\".split()\n",
        "print(a)\n",
        "a = list(map(int, a))\n",
        "print(a)"
      ]
    },
    {
      "cell_type": "code",
      "execution_count": null,
      "id": "84d9f84c",
      "metadata": {
        "id": "84d9f84c"
      },
      "outputs": [],
      "source": [
        "a = \"1 2 -3 4 -5\".split()\n",
        "print(a)\n",
        "a = list(map(float, a))\n",
        "print(a)"
      ]
    },
    {
      "cell_type": "code",
      "execution_count": null,
      "id": "1bcae2a6",
      "metadata": {
        "id": "1bcae2a6"
      },
      "outputs": [],
      "source": [
        "a = \"1 2 -3 4 -5 0\".split()\n",
        "print(a)\n",
        "a = list(map(bool, a))\n",
        "print(a)"
      ]
    },
    {
      "cell_type": "code",
      "execution_count": null,
      "id": "13a826c6",
      "metadata": {
        "id": "13a826c6"
      },
      "outputs": [],
      "source": [
        "a = \"1 2 -3 4 -5 0\".split()\n",
        "print(a)\n",
        "a = list(map(int, a))\n",
        "print(a)\n",
        "a = list(map(bool, a))\n",
        "print(a)"
      ]
    },
    {
      "cell_type": "markdown",
      "id": "8c28c10b",
      "metadata": {
        "id": "8c28c10b"
      },
      "source": [
        "Как параметр для `map` можно передавать не только стандартные функции, но и свои собственные:"
      ]
    },
    {
      "cell_type": "code",
      "execution_count": null,
      "id": "80527cdc",
      "metadata": {
        "id": "80527cdc"
      },
      "outputs": [],
      "source": [
        "def my_function(x):\n",
        "    return x * 2\n",
        "\n",
        "a = \"1 2 -3 4 -5\".split()\n",
        "print(a)\n",
        "a = list(map(my_function, a))\n",
        "print(a)"
      ]
    },
    {
      "cell_type": "markdown",
      "id": "7d192c9d",
      "metadata": {
        "id": "7d192c9d"
      },
      "source": [
        "Такие \"одноразовые функции\" загрязняют пространство имён, поэтому есть возможность создать **безымянную функцию** при помощи слова `lambda`. Вычисляясь, лямбда-выражение \"изготавливает\" новую функцию и передаёт её как объект туда, где она нужна — в функцию `map`. Затем она сразу забывается."
      ]
    },
    {
      "cell_type": "code",
      "execution_count": null,
      "id": "ce922e96",
      "metadata": {
        "id": "ce922e96"
      },
      "outputs": [],
      "source": [
        "a = \"1 2 -3 4 -5\".split()\n",
        "print(a)\n",
        "a = list(map(lambda x: x * 2, a))\n",
        "print(a)"
      ]
    },
    {
      "cell_type": "code",
      "execution_count": null,
      "id": "959c6572",
      "metadata": {
        "id": "959c6572"
      },
      "outputs": [],
      "source": [
        "a = [1, 2, -3, 4, -5]\n",
        "b = list(map(is_positive, a))\n",
        "c = list(filter(is_positive, a))\n",
        "print(b)\n",
        "print(c)"
      ]
    },
    {
      "cell_type": "code",
      "execution_count": null,
      "id": "fd2a87e6",
      "metadata": {
        "id": "fd2a87e6"
      },
      "outputs": [],
      "source": [
        "a = [1, 2, -3, 4, -5]\n",
        "b = list(map(lambda x: x > 0, a))\n",
        "c = list(filter(lambda x: x > 0, a))\n",
        "print(b)\n",
        "print(c)"
      ]
    },
    {
      "cell_type": "markdown",
      "id": "7313cf30",
      "metadata": {
        "id": "7313cf30"
      },
      "source": [
        "Можем делать \"сложную\" лямбда-функцию:"
      ]
    },
    {
      "cell_type": "code",
      "execution_count": null,
      "id": "bf6a53b0",
      "metadata": {
        "id": "bf6a53b0"
      },
      "outputs": [],
      "source": [
        "a = \"1 2 -3 4 -5\".split()\n",
        "print(a)\n",
        "a = list(map(lambda x: abs(int(x)), a))\n",
        "print(a)"
      ]
    },
    {
      "cell_type": "markdown",
      "id": "cced2f0d",
      "metadata": {
        "id": "cced2f0d"
      },
      "source": [
        "**Упражнение:** считайте список с клавиатуры. С помощью функции `filter` удалите из него те элементы, которые *не* являются квадратами однозначных натуральных чисел."
      ]
    },
    {
      "cell_type": "code",
      "execution_count": null,
      "id": "470b80f3",
      "metadata": {
        "id": "470b80f3",
        "outputId": "4e1a88c4-e190-41f5-fa09-b89db4032db5"
      },
      "outputs": [
        {
          "name": "stdout",
          "output_type": "stream",
          "text": [
            "12 13 16 25 22 11\n",
            "[16, 25]\n"
          ]
        }
      ],
      "source": [
        "a = list(map(int, input().split()))\n",
        "b = list(filter(lambda x: x**0.5 == int(x**0.5), a))\n",
        "\n",
        "print(b)"
      ]
    },
    {
      "cell_type": "markdown",
      "id": "07f6cc31",
      "metadata": {
        "id": "07f6cc31"
      },
      "source": [
        "Можно использовать `map` для обработки считанного списка. Считываем с помощью функции `input()` объект типа `str`, к нему применяем метод `split()` и получаем `list`, ко всем его элементам функция `map` применяет функцию `int`, а конструктор списка `list` сохраняет результат в список:"
      ]
    },
    {
      "cell_type": "code",
      "execution_count": null,
      "id": "5880334d",
      "metadata": {
        "id": "5880334d"
      },
      "outputs": [],
      "source": [
        "a = list(map(int, input().split()))\n",
        "print(a)"
      ]
    },
    {
      "cell_type": "code",
      "execution_count": null,
      "id": "513e32ed",
      "metadata": {
        "scrolled": true,
        "id": "513e32ed"
      },
      "outputs": [],
      "source": [
        "a = [list(map(int, input().split())) for i in range(5)]"
      ]
    },
    {
      "cell_type": "code",
      "execution_count": null,
      "id": "2a2fa26e",
      "metadata": {
        "id": "2a2fa26e"
      },
      "outputs": [],
      "source": [
        "for x in a:\n",
        "    print(*x)"
      ]
    },
    {
      "cell_type": "markdown",
      "id": "8be0994e",
      "metadata": {
        "id": "8be0994e"
      },
      "source": [
        "Пример: удалить из матрицы строки с отрицательной суммой"
      ]
    },
    {
      "cell_type": "code",
      "execution_count": null,
      "id": "4b7291f3",
      "metadata": {
        "id": "4b7291f3"
      },
      "outputs": [],
      "source": [
        "a = [[5, -2, 3], [-1, 2, -3], [-8, 4, 5]]\n",
        "for x in a:\n",
        "    print(*x)"
      ]
    },
    {
      "cell_type": "code",
      "execution_count": null,
      "id": "107988bd",
      "metadata": {
        "id": "107988bd"
      },
      "outputs": [],
      "source": [
        "a = list(filter(lambda x: sum(x) >= 0, a))\n",
        "print(a)"
      ]
    },
    {
      "cell_type": "code",
      "execution_count": null,
      "id": "af8eb227",
      "metadata": {
        "id": "af8eb227"
      },
      "outputs": [],
      "source": [
        "print(sum(a[0]), sum(a[1]))"
      ]
    },
    {
      "cell_type": "markdown",
      "id": "9687cb48",
      "metadata": {
        "id": "9687cb48"
      },
      "source": [
        "И еще примеры:"
      ]
    },
    {
      "cell_type": "code",
      "execution_count": null,
      "id": "a25dae6f",
      "metadata": {
        "id": "a25dae6f"
      },
      "outputs": [],
      "source": [
        "a = [1, 2, 3, 4, 5]\n",
        "print(list(map(lambda x: x ** 2, a)))"
      ]
    },
    {
      "cell_type": "code",
      "execution_count": null,
      "id": "7615424a",
      "metadata": {
        "id": "7615424a"
      },
      "outputs": [],
      "source": [
        "a = [1, 2, -3, 4, -5]\n",
        "print(list(map(lambda x: x if x >= 0 else 0, a)))"
      ]
    },
    {
      "cell_type": "markdown",
      "id": "3f3d2d44",
      "metadata": {
        "id": "3f3d2d44"
      },
      "source": [
        "## Цикл while. Целочисленная арифметика"
      ]
    },
    {
      "cell_type": "markdown",
      "id": "7feb1357",
      "metadata": {
        "id": "7feb1357"
      },
      "source": [
        "Кроме цикла `for` в Python используется цикл `while`. Например, он удобен, если нужно указать условие выхода через условие типа `bool`"
      ]
    },
    {
      "cell_type": "code",
      "execution_count": null,
      "id": "123b28fb",
      "metadata": {
        "id": "123b28fb"
      },
      "outputs": [],
      "source": [
        "i = 0\n",
        "while i < 5:\n",
        "    print(i ** 2)\n",
        "    i += 1"
      ]
    },
    {
      "cell_type": "code",
      "execution_count": null,
      "id": "5ee7473f",
      "metadata": {
        "id": "5ee7473f"
      },
      "outputs": [],
      "source": [
        "for i in range(5):\n",
        "    print(i ** 2)"
      ]
    },
    {
      "cell_type": "markdown",
      "id": "3aa86ea4",
      "metadata": {
        "id": "3aa86ea4"
      },
      "source": [
        "Еще две арифметические операции, которые потребуются в примере ниже: деление с остатком и целочисленное деление."
      ]
    },
    {
      "cell_type": "code",
      "execution_count": null,
      "id": "69f54375",
      "metadata": {
        "id": "69f54375"
      },
      "outputs": [],
      "source": [
        "print(16 % 3)\n",
        "print(16 // 3)"
      ]
    },
    {
      "cell_type": "markdown",
      "id": "85197c8d",
      "metadata": {
        "id": "85197c8d"
      },
      "source": [
        "С помощью цикла `while` удобно обращаться к отдельным цифрам числа. Например, можно сохранить их в массив:"
      ]
    },
    {
      "cell_type": "code",
      "execution_count": null,
      "id": "6488a45d",
      "metadata": {
        "id": "6488a45d"
      },
      "outputs": [],
      "source": [
        "a = []\n",
        "n = 2345\n",
        "while n > 0:\n",
        "    a.append(n % 10)\n",
        "    n = n // 10\n",
        "print(a)"
      ]
    },
    {
      "cell_type": "markdown",
      "id": "73cfba6a",
      "metadata": {
        "id": "73cfba6a"
      },
      "source": [
        "**Упражнение:** напишите функцию, которая вычисляет сумму цифр числа, считайте число с клавиатуры и примените эту функцию."
      ]
    },
    {
      "cell_type": "code",
      "execution_count": null,
      "id": "91628376",
      "metadata": {
        "id": "91628376",
        "outputId": "7ccc7ca5-3968-4505-a8b4-c3a3f4d1c7c8"
      },
      "outputs": [
        {
          "name": "stdout",
          "output_type": "stream",
          "text": [
            "1234\n",
            "10\n"
          ]
        }
      ],
      "source": [
        "def coo(x):\n",
        "    x = str(x)\n",
        "    s = 0\n",
        "    for i in x:\n",
        "        s += int(i)\n",
        "    return s\n",
        "print(coo(int(input())))"
      ]
    },
    {
      "cell_type": "markdown",
      "id": "7c9dc0fd",
      "metadata": {
        "id": "7c9dc0fd"
      },
      "source": [
        "Можно запустить \"бесконечный цикл\" (он ничем не отличается от обычного). Внутри циклов можно использовать конструкции `break` и `continue`:"
      ]
    },
    {
      "cell_type": "code",
      "execution_count": null,
      "id": "8794783c",
      "metadata": {
        "id": "8794783c"
      },
      "outputs": [],
      "source": [
        "while True:\n",
        "    a = int(input())\n",
        "    print(a)"
      ]
    },
    {
      "cell_type": "markdown",
      "id": "254a4a65",
      "metadata": {
        "id": "254a4a65"
      },
      "source": [
        "Для прерывания работы ячейки можно нажать на квадратик."
      ]
    },
    {
      "cell_type": "code",
      "execution_count": null,
      "id": "46735686",
      "metadata": {
        "id": "46735686"
      },
      "outputs": [],
      "source": [
        "while True:\n",
        "    a = int(input())\n",
        "    if a > 0:\n",
        "        print(a)\n",
        "    else:\n",
        "        break"
      ]
    },
    {
      "cell_type": "code",
      "execution_count": null,
      "id": "e41787fb",
      "metadata": {
        "id": "e41787fb"
      },
      "outputs": [],
      "source": [
        "while True:\n",
        "    a = int(input())\n",
        "    if a > 0:\n",
        "        continue\n",
        "    else:\n",
        "        break"
      ]
    },
    {
      "cell_type": "markdown",
      "id": "5da20e2f",
      "metadata": {
        "id": "5da20e2f"
      },
      "source": [
        "## Работа с файлами"
      ]
    },
    {
      "cell_type": "markdown",
      "id": "84e27eb5",
      "metadata": {
        "id": "84e27eb5"
      },
      "source": [
        "Пример: создайте файл input.txt, скопируйте туда таблицу с числами ниже:\n",
        "\n",
        "    1 2 3\n",
        "    4 5 6"
      ]
    },
    {
      "cell_type": "code",
      "execution_count": null,
      "id": "1ade4721",
      "metadata": {
        "id": "1ade4721",
        "outputId": "2a8d697e-f633-46d6-da3c-2f742d6d89d4"
      },
      "outputs": [
        {
          "name": "stdout",
          "output_type": "stream",
          "text": [
            "<_io.TextIOWrapper name='input.txt' mode='r' encoding='cp1251'>\n"
          ]
        }
      ],
      "source": [
        "with open(\"input.txt\", \"r\") as f:\n",
        "    print(f.read())"
      ]
    },
    {
      "cell_type": "code",
      "execution_count": null,
      "id": "17a0572d",
      "metadata": {
        "id": "17a0572d"
      },
      "outputs": [],
      "source": [
        "with open(\"input.txt\", \"r\") as f:\n",
        "    s = f.read()\n",
        "    print(s)\n",
        "    "
      ]
    },
    {
      "cell_type": "code",
      "execution_count": null,
      "id": "7cb5784c",
      "metadata": {
        "id": "7cb5784c"
      },
      "outputs": [],
      "source": [
        "s, type(s)"
      ]
    },
    {
      "cell_type": "markdown",
      "id": "7e855b29",
      "metadata": {
        "id": "7e855b29"
      },
      "source": [
        "Так выглядит внутреннее представление строки `s`. Когда мы вызываем функцию `print` символ переноса строки `\\n` переводит курсор на новую строку:"
      ]
    },
    {
      "cell_type": "code",
      "execution_count": null,
      "id": "4a95cf02",
      "metadata": {
        "id": "4a95cf02"
      },
      "outputs": [],
      "source": [
        "print(\"1\\n2\")"
      ]
    },
    {
      "cell_type": "code",
      "execution_count": null,
      "id": "248a5e4f",
      "metadata": {
        "id": "248a5e4f",
        "outputId": "8a7100f9-84e1-4f14-ed78-b3c708718d3d"
      },
      "outputs": [
        {
          "name": "stdout",
          "output_type": "stream",
          "text": [
            "4 5 6\n"
          ]
        }
      ],
      "source": [
        "with open(\"input.txt\", \"r\") as f:\n",
        "    a = f.readlines()[1]\n",
        "print(a)"
      ]
    },
    {
      "cell_type": "markdown",
      "id": "45273c92",
      "metadata": {
        "id": "45273c92"
      },
      "source": [
        "Напомним, что `rstrip()` удаляет пробельные элементы из конца строки, в частности, символ переноса строки"
      ]
    },
    {
      "cell_type": "code",
      "execution_count": null,
      "id": "5fcc6108",
      "metadata": {
        "id": "5fcc6108"
      },
      "outputs": [],
      "source": [
        "with open(\"input.txt\", \"r\") as f:\n",
        "    a = f.readlines()\n",
        "    a = list(map(lambda x: x.rstrip(), a))\n",
        "print(a)"
      ]
    },
    {
      "cell_type": "code",
      "execution_count": null,
      "id": "ee6bbeb0",
      "metadata": {
        "id": "ee6bbeb0"
      },
      "outputs": [],
      "source": [
        "with open(\"input.txt\", \"r\") as f:\n",
        "    a = f.readlines()\n",
        "    a = list(map(lambda x: x.rstrip().split(), a))\n",
        "print(a)"
      ]
    },
    {
      "cell_type": "code",
      "execution_count": null,
      "id": "c2625d49",
      "metadata": {
        "id": "c2625d49"
      },
      "outputs": [],
      "source": [
        "with open(\"input.txt\", \"r\") as f:\n",
        "    a = f.readlines()\n",
        "    a = list(map(lambda x: [int(y) for y in x.rstrip().split()], a))\n",
        "print(a)"
      ]
    },
    {
      "cell_type": "markdown",
      "id": "1c2446d3",
      "metadata": {
        "id": "1c2446d3"
      },
      "source": [
        "Или проще:"
      ]
    },
    {
      "cell_type": "code",
      "execution_count": null,
      "id": "dba4f550",
      "metadata": {
        "id": "dba4f550"
      },
      "outputs": [],
      "source": [
        "with open(\"input.txt\", \"r\") as f:\n",
        "    a = f.readlines()\n",
        "    a = list(map(lambda x: x.rstrip().split(), a))\n",
        "    for i in range(len(a)):\n",
        "        for j in range(len(a[i])):\n",
        "            a[i][j] = int(a[i][j])\n",
        "print(a)"
      ]
    },
    {
      "cell_type": "markdown",
      "id": "50cd4323",
      "metadata": {
        "id": "50cd4323"
      },
      "source": [
        "**Пример:** в созданный файл запишем вместо чисел, которые там были, новые числа, равные квадратам исходных"
      ]
    },
    {
      "cell_type": "code",
      "execution_count": null,
      "id": "b38bd1b9",
      "metadata": {
        "id": "b38bd1b9"
      },
      "outputs": [],
      "source": [
        "b = [[a[i][j] ** 2 for j in range(len(a[i]))] for i in range(len(a))]\n",
        "print(b)"
      ]
    },
    {
      "cell_type": "code",
      "execution_count": null,
      "id": "6ca144a2",
      "metadata": {
        "id": "6ca144a2"
      },
      "outputs": [],
      "source": [
        "with open(\"output.txt\", \"w\") as f:\n",
        "    f.writelines([\" \".join(x) for x in b])"
      ]
    },
    {
      "cell_type": "code",
      "execution_count": null,
      "id": "82b7feff",
      "metadata": {
        "id": "82b7feff"
      },
      "outputs": [],
      "source": [
        "b = [[str(x) for x in b[i]] for i in range(len(b))]\n",
        "with open(\"output.txt\", \"w\") as f:\n",
        "    f.writelines([\" \".join(x) for x in b])"
      ]
    },
    {
      "cell_type": "markdown",
      "id": "d7798cae",
      "metadata": {
        "id": "d7798cae"
      },
      "source": [
        "Посмотрите, что записалось в файл. Не совсем то, что нужно, не хватает символов переноса строки"
      ]
    },
    {
      "cell_type": "code",
      "execution_count": null,
      "id": "a95188de",
      "metadata": {
        "id": "a95188de"
      },
      "outputs": [],
      "source": [
        "b = [[str(x) for x in b[i]] for i in range(len(b))]\n",
        "with open(\"output.txt\", \"w\") as f:\n",
        "    f.writelines([\" \".join(x) + \"\\n\" for x in b])"
      ]
    },
    {
      "cell_type": "markdown",
      "id": "648228d0",
      "metadata": {
        "id": "648228d0"
      },
      "source": [
        "Файлы можно открывать не только на запись, но и на дозапись. Обратите внимание, что в предыдущей ячейке предыдущее сожержимое файла стерлось запуском `open`, для этого используем флажок `a` вместо `w`"
      ]
    },
    {
      "cell_type": "code",
      "execution_count": null,
      "id": "acadb95e",
      "metadata": {
        "id": "acadb95e"
      },
      "outputs": [],
      "source": [
        "b = [[str(x) for x in b[i]] for i in range(len(b))]\n",
        "with open(\"output.txt\", \"a\") as f:\n",
        "    f.write(\"done!\")"
      ]
    },
    {
      "cell_type": "markdown",
      "id": "f9b894ad",
      "metadata": {
        "id": "f9b894ad"
      },
      "source": [
        "## Сортировка списков"
      ]
    },
    {
      "cell_type": "markdown",
      "id": "735cd12e",
      "metadata": {
        "id": "735cd12e"
      },
      "source": [
        "Не углубляясь в алгоритмы, разберем, как можно сортировать списки в Python. Для этого есть функции `sort` и `sorted`. Первая изменяет сортируемый объект, вторая создает новый, а исходный остается:"
      ]
    },
    {
      "cell_type": "code",
      "execution_count": null,
      "id": "93cd612d",
      "metadata": {
        "id": "93cd612d"
      },
      "outputs": [],
      "source": [
        "a = [3, 1, 5, 4, 2]\n",
        "a.sort()\n",
        "print(a)"
      ]
    },
    {
      "cell_type": "code",
      "execution_count": null,
      "id": "2886bb09",
      "metadata": {
        "id": "2886bb09"
      },
      "outputs": [],
      "source": [
        "a = [3, 1, 5, 4, 2]\n",
        "print(sorted(a))\n",
        "print(a)"
      ]
    },
    {
      "cell_type": "markdown",
      "id": "35933e8e",
      "metadata": {
        "id": "35933e8e"
      },
      "source": [
        "Но можем использовать вторую вместо первой:"
      ]
    },
    {
      "cell_type": "code",
      "execution_count": null,
      "id": "953f6807",
      "metadata": {
        "id": "953f6807"
      },
      "outputs": [],
      "source": [
        "a = [3, 1, 5, 4, 2]\n",
        "a = sorted(a)\n",
        "print(a)"
      ]
    },
    {
      "cell_type": "markdown",
      "id": "a4b08cda",
      "metadata": {
        "id": "a4b08cda"
      },
      "source": [
        "Сортировка по ключу. key - это второй параметр функции `sorted` и он часто записывает в виде лямбда-функции, которая возвращает функции от объектов, которые мы используем в качестве меры этих объектов для сортировки"
      ]
    },
    {
      "cell_type": "code",
      "execution_count": null,
      "id": "7acaea5d",
      "metadata": {
        "id": "7acaea5d"
      },
      "outputs": [],
      "source": [
        "a = [3, 1, 5, 4, 2]\n",
        "a = sorted(a, key = lambda x: -x)\n",
        "print(a)"
      ]
    },
    {
      "cell_type": "code",
      "execution_count": null,
      "id": "999810ba",
      "metadata": {
        "id": "999810ba"
      },
      "outputs": [],
      "source": [
        "a = [[1, 5], [3, 3], [5, 5], [3, 0]]\n",
        "print(sorted(a, key = lambda x: sum(x)))"
      ]
    },
    {
      "cell_type": "code",
      "execution_count": null,
      "id": "5ea4f6f5",
      "metadata": {
        "id": "5ea4f6f5"
      },
      "outputs": [],
      "source": [
        "a = [[1, 5], [3, 3], [5, 5], [3, 0]]\n",
        "print(sorted(a, key = lambda x: x[0] ** 2 + x[1] ** 2))"
      ]
    },
    {
      "cell_type": "markdown",
      "id": "36ab77a2",
      "metadata": {
        "id": "36ab77a2"
      },
      "source": [
        "Можем сортировать по нескольким параметрам в порядке убывания приоритета:"
      ]
    },
    {
      "cell_type": "code",
      "execution_count": null,
      "id": "53845f34",
      "metadata": {
        "id": "53845f34"
      },
      "outputs": [],
      "source": [
        "a = [[1, 6], [2, 5], [3, 4]]\n",
        "print(sorted(a, key = lambda x: (sum(x), x[1])))"
      ]
    },
    {
      "cell_type": "markdown",
      "id": "7d0ad4e6",
      "metadata": {
        "id": "7d0ad4e6"
      },
      "source": [
        "`(sum(x), x[1])` - это кортеж. Кортежи похожи на списки, но они неизменяемы (нельзя присваивать по индексу и добавлять элементы)"
      ]
    },
    {
      "cell_type": "code",
      "execution_count": null,
      "id": "009d6082",
      "metadata": {
        "id": "009d6082"
      },
      "outputs": [],
      "source": [
        "a = [1, 2]\n",
        "a[1] = 3\n",
        "print(a)"
      ]
    },
    {
      "cell_type": "code",
      "execution_count": null,
      "id": "435c3f6c",
      "metadata": {
        "id": "435c3f6c"
      },
      "outputs": [],
      "source": [
        "a = (1, 2)\n",
        "a[1] = 3\n",
        "print(a)"
      ]
    },
    {
      "cell_type": "code",
      "execution_count": null,
      "id": "96e37c3d",
      "metadata": {
        "id": "96e37c3d"
      },
      "outputs": [],
      "source": [
        "a = [1, 2]\n",
        "a.append(3)\n",
        "print(a)"
      ]
    },
    {
      "cell_type": "code",
      "execution_count": null,
      "id": "f5a32233",
      "metadata": {
        "id": "f5a32233"
      },
      "outputs": [],
      "source": [
        "a = (1, 2)\n",
        "a.append(3)\n",
        "print(a)"
      ]
    },
    {
      "cell_type": "code",
      "execution_count": null,
      "id": "1b626f89",
      "metadata": {
        "id": "1b626f89"
      },
      "outputs": [],
      "source": [
        "a = [1, 2]\n",
        "a = [3, 4]\n",
        "print(a)"
      ]
    },
    {
      "cell_type": "code",
      "execution_count": null,
      "id": "0fa7c68a",
      "metadata": {
        "id": "0fa7c68a"
      },
      "outputs": [],
      "source": [
        "a = (1, 2)\n",
        "a = (3, 4)\n",
        "print(a)"
      ]
    },
    {
      "cell_type": "markdown",
      "id": "7f6bc90e",
      "metadata": {
        "id": "7f6bc90e"
      },
      "source": [
        "Строки сортируются в лексикографическом порядке:"
      ]
    },
    {
      "cell_type": "code",
      "execution_count": null,
      "id": "7f7b871b",
      "metadata": {
        "id": "7f7b871b"
      },
      "outputs": [],
      "source": [
        "a = [\"100\", \"11\", \"12\", \"120\", \"119\"]\n",
        "print(sorted(a))"
      ]
    },
    {
      "cell_type": "code",
      "execution_count": null,
      "id": "7579dcda",
      "metadata": {
        "id": "7579dcda"
      },
      "outputs": [],
      "source": [
        "a = [\"100\", \"11\", \"12\", \"120\", \"119\"]\n",
        "print(sorted(a, key = lambda x: int(x)))"
      ]
    },
    {
      "cell_type": "markdown",
      "id": "e58bbfcc",
      "metadata": {
        "id": "e58bbfcc"
      },
      "source": [
        "## Снова к файлам"
      ]
    },
    {
      "cell_type": "markdown",
      "id": "c4583973",
      "metadata": {
        "id": "c4583973"
      },
      "source": [
        "**Пример:** дана таблица результатов олимпиады в формате \"Фамилия Имя Класс Балл\". Нужно скопировать ее в текстовый файл и считать в двумерный массив. Задача - определить фамилию и имя победителя олимпиады. Если их несколько, вывести первого в лексикографическом порядке.\n",
        "\n",
        "Решение: считаем данные в двумерный список. Отсортируем его по убыванию балла и по возрастанию ФИ.\n",
        "\n",
        "Таблица:\n",
        "\n",
        "    Иванов Сергей 9 90\n",
        "    Сергеев Петр 10 85\n",
        "    Петров Иван 11 90"
      ]
    },
    {
      "cell_type": "code",
      "execution_count": null,
      "id": "1295ab84",
      "metadata": {
        "id": "1295ab84"
      },
      "outputs": [],
      "source": [
        "with open(\"input.txt\", \"r\", encoding=\"utf-8\") as f:\n",
        "    a = list(map(lambda x: x.rstrip().split(), f.readlines()))\n",
        "    print(a)"
      ]
    },
    {
      "cell_type": "code",
      "execution_count": null,
      "id": "e102afba",
      "metadata": {
        "id": "e102afba"
      },
      "outputs": [],
      "source": [
        "print(sorted(a, key = lambda x: (-int(x[3]), x[0], x[1])))"
      ]
    },
    {
      "cell_type": "code",
      "execution_count": null,
      "id": "8c29b96e",
      "metadata": {
        "id": "8c29b96e"
      },
      "outputs": [],
      "source": [
        "print(\" \".join(sorted(a, key = lambda x: (-int(x[3]), x[0], x[1]))[0][:2]))"
      ]
    },
    {
      "cell_type": "markdown",
      "id": "c233c0df",
      "metadata": {
        "id": "c233c0df"
      },
      "source": [
        "## Генераторы и отложенные вычисления"
      ]
    },
    {
      "cell_type": "code",
      "execution_count": null,
      "id": "d2c31a60",
      "metadata": {
        "id": "d2c31a60"
      },
      "outputs": [],
      "source": [
        "def foo(x):\n",
        "    print(f\"foo called for {x}\")\n",
        "    return x * 10\n",
        "\n",
        "for x in map(foo, [1, 2, 3]):\n",
        "    print(x)"
      ]
    },
    {
      "cell_type": "code",
      "execution_count": null,
      "id": "471d3f6d",
      "metadata": {
        "id": "471d3f6d",
        "outputId": "8f2b8f51-af54-472c-bcdd-4fd1f23820b9"
      },
      "outputs": [
        {
          "name": "stdout",
          "output_type": "stream",
          "text": [
            "Iterations start:\n",
            "foo called for 1\n",
            "foo called for 10\n",
            "1010\n",
            "foo called for 2\n",
            "foo called for 20\n",
            "1020\n",
            "foo called for 3\n",
            "foo called for 30\n",
            "1030\n"
          ]
        }
      ],
      "source": [
        "def foo(x):\n",
        "    print(f\"foo called for {x}\")\n",
        "    return x * 10\n",
        "\n",
        "def boo(x):\n",
        "    print(f\"foo called for {x}\")\n",
        "    return x + 1000\n",
        "\n",
        "A = [1, 2, 3]\n",
        "B = map(foo, A)\n",
        "C = map(boo, B)\n",
        "print(\"Iterations start:\")\n",
        "for x in C:\n",
        "    print(x)"
      ]
    },
    {
      "cell_type": "markdown",
      "id": "b9b2c2a5",
      "metadata": {
        "id": "b9b2c2a5"
      },
      "source": [
        "## Итерируемые объекты"
      ]
    },
    {
      "cell_type": "markdown",
      "id": "28ad489b",
      "metadata": {
        "id": "28ad489b"
      },
      "source": [
        "Часто бывает удобно использовать *распаковку* переменных:"
      ]
    },
    {
      "cell_type": "code",
      "execution_count": null,
      "id": "5dd09d97",
      "metadata": {
        "id": "5dd09d97"
      },
      "outputs": [],
      "source": [
        "a, b = 1, 2\n",
        "print(a)\n",
        "print(b)"
      ]
    },
    {
      "cell_type": "code",
      "execution_count": null,
      "id": "f6d9de19",
      "metadata": {
        "id": "f6d9de19"
      },
      "outputs": [],
      "source": [
        "a, b, c = [1, 2, 3]\n",
        "print(a)\n",
        "print(b)\n",
        "print(c)"
      ]
    },
    {
      "cell_type": "code",
      "execution_count": null,
      "id": "8a7bc4c0",
      "metadata": {
        "id": "8a7bc4c0"
      },
      "outputs": [],
      "source": [
        "a, b, c = [1, 2, 3, 4, 5]"
      ]
    },
    {
      "cell_type": "code",
      "execution_count": null,
      "id": "824efb53",
      "metadata": {
        "id": "824efb53",
        "outputId": "d78213b5-00ee-4fa6-ee15-3fdafb6ca08a"
      },
      "outputs": [
        {
          "name": "stdout",
          "output_type": "stream",
          "text": [
            "[1, 2, 3] 4 5\n"
          ]
        }
      ],
      "source": [
        "*a, b, c = [1, 2, 3, 4, 5]\n",
        "print(a, b, c)"
      ]
    },
    {
      "cell_type": "code",
      "execution_count": null,
      "id": "6bae667a",
      "metadata": {
        "id": "6bae667a",
        "outputId": "266cf520-9271-40e5-acbf-a6735b4172cd"
      },
      "outputs": [
        {
          "name": "stdout",
          "output_type": "stream",
          "text": [
            "1 [2, 3, 4] 5\n"
          ]
        }
      ],
      "source": [
        "a, *b, c = [1, 2, 3, 4, 5]\n",
        "print(a, b, c)"
      ]
    },
    {
      "cell_type": "code",
      "execution_count": null,
      "id": "b59f365f",
      "metadata": {
        "id": "b59f365f"
      },
      "outputs": [],
      "source": [
        "a, b, *c = [1, 2, 3, 4, 5]\n",
        "print(a, b, c)"
      ]
    },
    {
      "cell_type": "code",
      "execution_count": null,
      "id": "207af4f8",
      "metadata": {
        "id": "207af4f8"
      },
      "outputs": [],
      "source": [
        "for a, b, c in [(1, 2, 3), (4, 5, 6), (7, 8, 9)]:\n",
        "    print(a, b, c)"
      ]
    },
    {
      "cell_type": "code",
      "execution_count": null,
      "id": "5f2be0ff",
      "metadata": {
        "id": "5f2be0ff"
      },
      "outputs": [],
      "source": [
        "for a, *b in [(1, 2, 3, 4), (10, 20), (100, 200, 300)]:\n",
        "    print(a, b)"
      ]
    },
    {
      "cell_type": "code",
      "execution_count": null,
      "id": "866f2440",
      "metadata": {
        "id": "866f2440"
      },
      "outputs": [],
      "source": [
        "a, (b, c) = [1, (2, 3)]\n",
        "print(a, b, c)"
      ]
    },
    {
      "cell_type": "markdown",
      "id": "765afc8a",
      "metadata": {
        "id": "765afc8a"
      },
      "source": [
        "### enumerate, zip, for с распаковкой "
      ]
    },
    {
      "cell_type": "markdown",
      "id": "5fa29a5a",
      "metadata": {
        "id": "5fa29a5a"
      },
      "source": [
        "В цикле `for` также можно использовать распаковку:"
      ]
    },
    {
      "cell_type": "code",
      "execution_count": null,
      "id": "e3e3cb71",
      "metadata": {
        "id": "e3e3cb71",
        "outputId": "1b0b9c08-e643-482f-8c56-f2e9485d4816"
      },
      "outputs": [
        {
          "name": "stdout",
          "output_type": "stream",
          "text": [
            "1 2 3\n",
            "3 4 7\n",
            "5 6 11\n"
          ]
        }
      ],
      "source": [
        "a = [[1, 2], [3, 4], [5, 6]]\n",
        "for x, y in a:\n",
        "    print(x, y, x + y)"
      ]
    },
    {
      "cell_type": "markdown",
      "id": "2bb6559b",
      "metadata": {
        "id": "2bb6559b"
      },
      "source": [
        "Часто такая распаковка используется не сама по себе, а вместе с использованием удобных функций `zip` и `enumerate`, которые позволяют удобнее работать со списками:"
      ]
    },
    {
      "cell_type": "code",
      "execution_count": null,
      "id": "d35a510a",
      "metadata": {
        "id": "d35a510a",
        "outputId": "6a00079a-c495-4666-8c5f-db4e47c94274"
      },
      "outputs": [
        {
          "name": "stdout",
          "output_type": "stream",
          "text": [
            "0 [1, 2, 3] 6\n",
            "1 [4, 5, 6] 15\n",
            "2 [7, 8, 9] 24\n",
            "3 [0, 0, 0] 0\n"
          ]
        }
      ],
      "source": [
        "a = [[1, 2, 3], [4, 5, 6], [7, 8, 9], [0, 0, 0]]\n",
        "for i, x in enumerate(a):\n",
        "    print(i, x, sum(x))"
      ]
    },
    {
      "cell_type": "code",
      "execution_count": null,
      "id": "70889557",
      "metadata": {
        "id": "70889557",
        "outputId": "c9ed4276-f4e3-4709-b587-ea93bd563b85"
      },
      "outputs": [
        {
          "name": "stdout",
          "output_type": "stream",
          "text": [
            "dog\n",
            "cat\n",
            "mouse\n",
            "duck\n",
            "goose\n"
          ]
        }
      ],
      "source": [
        "with open(\"1.txt\", \"w\") as f:\n",
        "    f.writelines([word + \"\\n\" for word in [\"dog\", \"cat\", \"mouse\", \"duck\", \"goose\"]])\n",
        "for line in open(\"1.txt\"):\n",
        "    print(line.strip())"
      ]
    },
    {
      "cell_type": "code",
      "execution_count": null,
      "id": "a34d5858",
      "metadata": {
        "scrolled": true,
        "id": "a34d5858",
        "outputId": "049818e8-a9c0-4c64-abce-bd64da744794"
      },
      "outputs": [
        {
          "name": "stdout",
          "output_type": "stream",
          "text": [
            "0 dog\n",
            "1 cat\n",
            "2 mouse\n",
            "3 duck\n",
            "4 goose\n"
          ]
        }
      ],
      "source": [
        "for i, x in enumerate(open(\"1.txt\")):\n",
        "    print(i, x.rstrip())"
      ]
    },
    {
      "cell_type": "code",
      "execution_count": null,
      "id": "5f28d35c",
      "metadata": {
        "id": "5f28d35c",
        "outputId": "ed634754-c33a-47cc-c247-fca44415be4c"
      },
      "outputs": [
        {
          "name": "stdout",
          "output_type": "stream",
          "text": [
            "[('ab', 1), ('cd', 2), ('ef', 3)]\n"
          ]
        }
      ],
      "source": [
        "a = [\"ab\", \"cd\", \"ef\"]\n",
        "b = [1, 2, 3]\n",
        "print(list(zip(a, b)))"
      ]
    },
    {
      "cell_type": "code",
      "execution_count": null,
      "id": "8f44fcfd",
      "metadata": {
        "id": "8f44fcfd",
        "outputId": "bc299011-5be2-42fd-93bd-e7a30070c0e4"
      },
      "outputs": [
        {
          "name": "stdout",
          "output_type": "stream",
          "text": [
            "a 0\n",
            "b 1\n",
            "c 2\n",
            "d 3\n",
            "e 4\n"
          ]
        }
      ],
      "source": [
        "for a, b in zip(\"abcde\", range(5)):\n",
        "    print(a, b)"
      ]
    },
    {
      "cell_type": "code",
      "execution_count": null,
      "id": "172870c2",
      "metadata": {
        "id": "172870c2",
        "outputId": "cad2ab26-de60-42fc-e602-4d9c19be569e"
      },
      "outputs": [
        {
          "name": "stdout",
          "output_type": "stream",
          "text": [
            "a 0\n",
            "b 1\n",
            "c 2\n",
            "d 3\n",
            "e 4\n",
            "[('a', 0), ('b', 1), ('c', 2), ('d', 3), ('e', 4)]\n"
          ]
        }
      ],
      "source": [
        "for a, b in zip(\"abcde\", range(10)):\n",
        "    print(a, b)\n",
        "print(list(zip(\"abcde\", range(10))))"
      ]
    },
    {
      "cell_type": "markdown",
      "id": "9b5d74fb",
      "metadata": {
        "id": "9b5d74fb"
      },
      "source": [
        "## itertools"
      ]
    },
    {
      "cell_type": "markdown",
      "id": "f6fc0268",
      "metadata": {
        "id": "f6fc0268"
      },
      "source": [
        "Для более удобной работы с итерируемыми объектами мы можем использовать библиотеку `itertools`. Для этого нужно ее импортировать:"
      ]
    },
    {
      "cell_type": "code",
      "execution_count": null,
      "id": "40027db1",
      "metadata": {
        "id": "40027db1"
      },
      "outputs": [],
      "source": [
        "import itertools as it\n"
      ]
    },
    {
      "cell_type": "code",
      "execution_count": null,
      "id": "a2e7b20a",
      "metadata": {
        "id": "a2e7b20a",
        "outputId": "f8d981ad-98ed-4db8-d0f6-0ac872c47b7c"
      },
      "outputs": [
        {
          "name": "stdout",
          "output_type": "stream",
          "text": [
            "ABC\n",
            "ACB\n",
            "BAC\n",
            "BCA\n",
            "CAB\n",
            "CBA\n"
          ]
        }
      ],
      "source": [
        "for x, y, z in it.permutations(\"ABC\"):\n",
        "    print(x, y, z, sep='')"
      ]
    },
    {
      "cell_type": "code",
      "execution_count": null,
      "id": "34109753",
      "metadata": {
        "id": "34109753",
        "outputId": "73af4de9-c4a9-4c9e-d1c2-96c0874d4281"
      },
      "outputs": [
        {
          "name": "stdout",
          "output_type": "stream",
          "text": [
            "ABC ABD ACB ACD ADB ADC BAC BAD BCA BCD BDA BDC CAB CAD CBA CBD CDA CDB DAB DAC DBA DBC DCA DCB "
          ]
        }
      ],
      "source": [
        "for x, y, z in it.permutations(\"ABCD\", 3):\n",
        "    print(x, y, z, sep='', end=' ')"
      ]
    },
    {
      "cell_type": "markdown",
      "id": "860da4be",
      "metadata": {
        "id": "860da4be"
      },
      "source": [
        "**Упражнение:**\n",
        "Вычислите с помощью `it.permutation` $C_{12}^{5}$"
      ]
    },
    {
      "cell_type": "code",
      "execution_count": null,
      "id": "b43dcc6b",
      "metadata": {
        "id": "b43dcc6b",
        "outputId": "e81221de-1e17-4f81-c994-f61448ff9288"
      },
      "outputs": [
        {
          "name": "stdout",
          "output_type": "stream",
          "text": [
            "792\n"
          ]
        }
      ],
      "source": [
        "x = []\n",
        "s = 0\n",
        "for a in it.permutations('a'*12, 5):\n",
        "    s += 1\n",
        "b = 0\n",
        "for a in it.permutations('a'*5):\n",
        "    b += 1\n",
        "print(s//b)"
      ]
    },
    {
      "cell_type": "code",
      "execution_count": null,
      "id": "5b112ac3",
      "metadata": {
        "id": "5b112ac3",
        "outputId": "98084918-fd54-49ab-a3bf-28359bd4a191"
      },
      "outputs": [
        {
          "name": "stdout",
          "output_type": "stream",
          "text": [
            "AB AC AD AE BC BD BE CD CE DE "
          ]
        }
      ],
      "source": [
        "for x, y in it.combinations(\"ABCDE\", 2):\n",
        "    print(x, y, sep='', end=' ')"
      ]
    },
    {
      "cell_type": "code",
      "execution_count": null,
      "id": "154afae1",
      "metadata": {
        "id": "154afae1",
        "outputId": "5783c008-8291-47f7-c26d-6f63929d3908"
      },
      "outputs": [
        {
          "name": "stdout",
          "output_type": "stream",
          "text": [
            "AA AB AC AD AE BB BC BD BE CC CD CE DD DE EE "
          ]
        }
      ],
      "source": [
        "for x, y in it.combinations_with_replacement(\"ABCDE\", 2):\n",
        "    print(x, y, sep='', end=' ')"
      ]
    },
    {
      "cell_type": "code",
      "execution_count": null,
      "id": "9a7ad207",
      "metadata": {
        "id": "9a7ad207"
      },
      "outputs": [],
      "source": [
        "for a in it.chain(\"мама\", \"мыла\", \"раму\"):\n",
        "    print(a, end=' ')"
      ]
    },
    {
      "cell_type": "code",
      "execution_count": null,
      "id": "72c4e409",
      "metadata": {
        "id": "72c4e409"
      },
      "outputs": [],
      "source": [
        "for a in it.chain([5, 4, 3], [3, 4, 5], [[3, 4, 5]]):\n",
        "    print(a, end=' ')"
      ]
    },
    {
      "cell_type": "code",
      "execution_count": null,
      "id": "950eed61",
      "metadata": {
        "id": "950eed61"
      },
      "outputs": [],
      "source": [
        "for n, s in it.product(\"wxyz\", \"ABC\"):\n",
        "    print(n, s)"
      ]
    },
    {
      "cell_type": "markdown",
      "id": "6b925d3f",
      "metadata": {
        "id": "6b925d3f"
      },
      "source": [
        "**Упражнение:**\n",
        "Введите 2 списка (координаты вектора `a` и координаты вектора `b`) и найдите скалярное произведение этих векторов, используя `zip` или что-нибудь из `itertools`."
      ]
    },
    {
      "cell_type": "code",
      "execution_count": null,
      "id": "80086fe0",
      "metadata": {
        "id": "80086fe0",
        "outputId": "8ac3c1ec-4920-480e-a9b6-15fa94ee0c6a"
      },
      "outputs": [
        {
          "name": "stdout",
          "output_type": "stream",
          "text": [
            "1 2 3\n",
            "1 2 3\n",
            "14\n"
          ]
        }
      ],
      "source": [
        "a = list(map(int, input().split()))\n",
        "b = list(map(int, input().split()))\n",
        "s = 0\n",
        "for x, y in zip(a, b):\n",
        "    s += x*y\n",
        "print(s)"
      ]
    },
    {
      "cell_type": "code",
      "execution_count": null,
      "id": "ee5605d2",
      "metadata": {
        "id": "ee5605d2"
      },
      "outputs": [],
      "source": []
    }
  ],
  "metadata": {
    "kernelspec": {
      "display_name": "Python 3 (ipykernel)",
      "language": "python",
      "name": "python3"
    },
    "language_info": {
      "codemirror_mode": {
        "name": "ipython",
        "version": 3
      },
      "file_extension": ".py",
      "mimetype": "text/x-python",
      "name": "python",
      "nbconvert_exporter": "python",
      "pygments_lexer": "ipython3",
      "version": "3.9.12"
    },
    "colab": {
      "provenance": []
    }
  },
  "nbformat": 4,
  "nbformat_minor": 5
}
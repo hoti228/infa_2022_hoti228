{
  "cells": [
    {
      "cell_type": "markdown",
      "id": "cc9180ab",
      "metadata": {
        "id": "cc9180ab"
      },
      "source": [
        "# Set."
      ]
    },
    {
      "cell_type": "markdown",
      "id": "2905a413",
      "metadata": {
        "id": "2905a413"
      },
      "source": [
        "Множество `set` в Python имеет тот же смысл, что понятие множества в математике. `Множество` содержит неупорядоченный набор элементов. Множества поддерживают стандартные математические операции над ними: *объединение, пересечение, разность*. Возможно также добавление и удаление элементов, проверка их принадлежности множеству с помощью оператора `in`. При этом все элементы входят в `set` только один раз, добавление существующего элемента не изменяет множество. Элементами множества могут быть только `неизменяемые` типы, например, его элементами не могут быть списки.\n",
        "\n",
        "### Таблица по взаимодействию элемента и множества\n",
        "Операция  | Значение \n",
        "---|---\n",
        "`x in A`  | $x \\in A$, принадлежит ли элемент x множеству A \n",
        "`x not in A`  | $x \\notin A$ — то же, что `not (x in A)`\n",
        "`A.add(x)`  | добавить элемент x в множество A \n",
        "`A.discard(x)`  | удалить элемент x из множества A \n",
        "`A.remove(x)`  | удалить элемент x из множества A \n",
        "`A.pop()`  | удаляет из множества один случайный элемент и возвращает его "
      ]
    },
    {
      "cell_type": "code",
      "execution_count": null,
      "id": "b764f6e7",
      "metadata": {
        "id": "b764f6e7",
        "outputId": "f2dc9dd6-6cd3-4134-f107-9ef56bd9375a"
      },
      "outputs": [
        {
          "name": "stdout",
          "output_type": "stream",
          "text": [
            "{1, 2, 3, 4}\n"
          ]
        }
      ],
      "source": [
        "a = {1, 2, 3}\n",
        "a.add(4)\n",
        "print(a)"
      ]
    },
    {
      "cell_type": "code",
      "execution_count": null,
      "id": "10b6998a",
      "metadata": {
        "id": "10b6998a",
        "outputId": "9ed75749-dd88-46e7-d362-c5dc0e51a11b"
      },
      "outputs": [
        {
          "name": "stdout",
          "output_type": "stream",
          "text": [
            "{1, 2, 3, 4}\n"
          ]
        }
      ],
      "source": [
        "a.add(1)\n",
        "print(a)"
      ]
    },
    {
      "cell_type": "code",
      "execution_count": null,
      "id": "8feef037",
      "metadata": {
        "id": "8feef037",
        "outputId": "2166600c-b287-4bdf-c3a8-0a9624ac25e3"
      },
      "outputs": [
        {
          "name": "stdout",
          "output_type": "stream",
          "text": [
            "False True\n"
          ]
        }
      ],
      "source": [
        "print(0 in a, 1 in a)"
      ]
    },
    {
      "cell_type": "markdown",
      "id": "96713d33",
      "metadata": {
        "id": "96713d33"
      },
      "source": [
        "Для удаления элементов из множества можно использовать `discard` и `remove`, их поведение различается тогда, когда удаляемый элемент отсутствует в множестве: `discard` не делает ничего, а метод `remove` генерирует исключение `KeyError`, которое вы увидите в одной из ячеек ниже."
      ]
    },
    {
      "cell_type": "code",
      "execution_count": null,
      "id": "a59d5948",
      "metadata": {
        "id": "a59d5948",
        "outputId": "cac1f643-ddf4-48c0-f95c-29ea503cbc4d"
      },
      "outputs": [
        {
          "name": "stdout",
          "output_type": "stream",
          "text": [
            "{2, 3, 4}\n"
          ]
        }
      ],
      "source": [
        "a.remove(1)\n",
        "print(a)"
      ]
    },
    {
      "cell_type": "code",
      "execution_count": null,
      "id": "b33b0ea5",
      "metadata": {
        "id": "b33b0ea5",
        "outputId": "50f928a3-de0d-453c-851e-213c148ecce9"
      },
      "outputs": [
        {
          "ename": "KeyError",
          "evalue": "0",
          "output_type": "error",
          "traceback": [
            "\u001b[1;31m---------------------------------------------------------------------------\u001b[0m",
            "\u001b[1;31mKeyError\u001b[0m                                  Traceback (most recent call last)",
            "Input \u001b[1;32mIn [5]\u001b[0m, in \u001b[0;36m<cell line: 1>\u001b[1;34m()\u001b[0m\n\u001b[1;32m----> 1\u001b[0m \u001b[43ma\u001b[49m\u001b[38;5;241;43m.\u001b[39;49m\u001b[43mremove\u001b[49m\u001b[43m(\u001b[49m\u001b[38;5;241;43m0\u001b[39;49m\u001b[43m)\u001b[49m\n\u001b[0;32m      2\u001b[0m \u001b[38;5;28mprint\u001b[39m(a)\n",
            "\u001b[1;31mKeyError\u001b[0m: 0"
          ]
        }
      ],
      "source": [
        "a.remove(0)\n",
        "print(a)"
      ]
    },
    {
      "cell_type": "code",
      "execution_count": null,
      "id": "c1a18deb",
      "metadata": {
        "id": "c1a18deb",
        "outputId": "a14c133f-e9fe-4a90-d542-75535bfe5806"
      },
      "outputs": [
        {
          "name": "stdout",
          "output_type": "stream",
          "text": [
            "{2, 3, 4}\n"
          ]
        }
      ],
      "source": [
        "print(a)"
      ]
    },
    {
      "cell_type": "code",
      "execution_count": null,
      "id": "bae1b5de",
      "metadata": {
        "id": "bae1b5de",
        "outputId": "b9cb6fe0-5d69-4307-bcbf-54f5431fa325"
      },
      "outputs": [
        {
          "name": "stdout",
          "output_type": "stream",
          "text": [
            "{3, 4}\n"
          ]
        }
      ],
      "source": [
        "a.discard(2)\n",
        "print(a)"
      ]
    },
    {
      "cell_type": "code",
      "execution_count": null,
      "id": "27de8b15",
      "metadata": {
        "id": "27de8b15",
        "outputId": "3c5ef34c-9819-4ab3-9bb7-38af880318a5"
      },
      "outputs": [
        {
          "name": "stdout",
          "output_type": "stream",
          "text": [
            "{3, 4}\n"
          ]
        }
      ],
      "source": [
        "a.discard(0)\n",
        "print(a)"
      ]
    },
    {
      "cell_type": "markdown",
      "id": "5f4bca28",
      "metadata": {
        "id": "5f4bca28"
      },
      "source": [
        "Для создания пустого множества или для получения множества из *итерируемого* объекта можно использовать конструктор множеств `set`:"
      ]
    },
    {
      "cell_type": "code",
      "execution_count": null,
      "id": "68ccf6f0",
      "metadata": {
        "id": "68ccf6f0",
        "outputId": "842f3275-e558-4cd8-b887-a5bc18bc640c"
      },
      "outputs": [
        {
          "name": "stdout",
          "output_type": "stream",
          "text": [
            "set()\n",
            "{1}\n"
          ]
        }
      ],
      "source": [
        "a = set()\n",
        "print(a)\n",
        "a.add(1)\n",
        "print(a)"
      ]
    },
    {
      "cell_type": "markdown",
      "id": "01353f80",
      "metadata": {
        "id": "01353f80"
      },
      "source": [
        "Конструкция ниже не работает, потому что фигурные скобки используются для создания пустых словарей `dict`, о которых будет сказано ниже."
      ]
    },
    {
      "cell_type": "code",
      "execution_count": null,
      "id": "73ca6b59",
      "metadata": {
        "id": "73ca6b59",
        "outputId": "32191333-01c8-4639-f621-d18f81c7c623"
      },
      "outputs": [
        {
          "name": "stdout",
          "output_type": "stream",
          "text": [
            "{}\n"
          ]
        },
        {
          "ename": "AttributeError",
          "evalue": "'dict' object has no attribute 'add'",
          "output_type": "error",
          "traceback": [
            "\u001b[1;31m---------------------------------------------------------------------------\u001b[0m",
            "\u001b[1;31mAttributeError\u001b[0m                            Traceback (most recent call last)",
            "Input \u001b[1;32mIn [10]\u001b[0m, in \u001b[0;36m<cell line: 3>\u001b[1;34m()\u001b[0m\n\u001b[0;32m      1\u001b[0m a \u001b[38;5;241m=\u001b[39m {}\n\u001b[0;32m      2\u001b[0m \u001b[38;5;28mprint\u001b[39m(a)\n\u001b[1;32m----> 3\u001b[0m \u001b[43ma\u001b[49m\u001b[38;5;241;43m.\u001b[39;49m\u001b[43madd\u001b[49m(\u001b[38;5;241m1\u001b[39m)\n\u001b[0;32m      4\u001b[0m \u001b[38;5;28mprint\u001b[39m(a)\n",
            "\u001b[1;31mAttributeError\u001b[0m: 'dict' object has no attribute 'add'"
          ]
        }
      ],
      "source": [
        "a = {}\n",
        "print(a)\n",
        "a.add(1)\n",
        "print(a)"
      ]
    },
    {
      "cell_type": "code",
      "execution_count": null,
      "id": "a2c72d10",
      "metadata": {
        "id": "a2c72d10",
        "outputId": "8b0d2998-1f3e-4bb7-e5e6-9fd91e873712"
      },
      "outputs": [
        {
          "name": "stdout",
          "output_type": "stream",
          "text": [
            "{1, 2, 3, 4}\n"
          ]
        }
      ],
      "source": [
        "a = [1, 2, 3, 4]\n",
        "print(set(a))"
      ]
    },
    {
      "cell_type": "code",
      "execution_count": null,
      "id": "6aec8e48",
      "metadata": {
        "id": "6aec8e48",
        "outputId": "e4cd1e72-593c-4226-8731-0fec019cbc46"
      },
      "outputs": [
        {
          "name": "stdout",
          "output_type": "stream",
          "text": [
            "{1, 2, 3, 4}\n"
          ]
        }
      ],
      "source": [
        "a = [1, 2, 3, 4, 1]\n",
        "print(set(a))"
      ]
    },
    {
      "cell_type": "code",
      "execution_count": null,
      "id": "5f28094e",
      "metadata": {
        "id": "5f28094e",
        "outputId": "dbac5a9c-9fa6-4862-bfab-a27ef78ff772"
      },
      "outputs": [
        {
          "name": "stdout",
          "output_type": "stream",
          "text": [
            "{'c', 'd', 'b', 'a'}\n"
          ]
        }
      ],
      "source": [
        "a = \"abcd\"\n",
        "print(set(a))"
      ]
    },
    {
      "cell_type": "code",
      "execution_count": null,
      "id": "1f6a55db",
      "metadata": {
        "id": "1f6a55db",
        "outputId": "ddc9e216-4f2d-4193-ae30-f1c8ef8cbd82"
      },
      "outputs": [
        {
          "name": "stdout",
          "output_type": "stream",
          "text": [
            "{'c', 'd', 'b', 'a'}\n"
          ]
        }
      ],
      "source": [
        "a = \"abcda\"\n",
        "print(set(a))"
      ]
    },
    {
      "cell_type": "markdown",
      "id": "b22ea5f0",
      "metadata": {
        "id": "b22ea5f0"
      },
      "source": [
        "Операции над множествами можно записывать как коротко символами, так и названиями соответствующих функций:"
      ]
    },
    {
      "cell_type": "code",
      "execution_count": null,
      "id": "09c3ec60",
      "metadata": {
        "id": "09c3ec60",
        "outputId": "3d1231d4-94a3-4e23-a081-04cb9a8cc86a"
      },
      "outputs": [
        {
          "name": "stdout",
          "output_type": "stream",
          "text": [
            "{1, 2, 3, 4, 5, 6}\n",
            "{1, 2, 3, 4, 5, 6}\n"
          ]
        }
      ],
      "source": [
        "a = {1, 2, 3, 4}\n",
        "b = {3, 4, 5, 6}\n",
        "print(a.union(b))\n",
        "print(a | b)"
      ]
    },
    {
      "cell_type": "code",
      "execution_count": null,
      "id": "6f286d8d",
      "metadata": {
        "id": "6f286d8d",
        "outputId": "ccd5e286-ea6b-4c8d-a8ff-9f9bf2cfc314"
      },
      "outputs": [
        {
          "name": "stdout",
          "output_type": "stream",
          "text": [
            "{3, 4}\n",
            "{3, 4}\n"
          ]
        }
      ],
      "source": [
        "a = {1, 2, 3, 4}\n",
        "b = {3, 4, 5, 6}\n",
        "print(a.intersection(b))\n",
        "print(a & b)"
      ]
    },
    {
      "cell_type": "code",
      "execution_count": null,
      "id": "14b1a2b6",
      "metadata": {
        "id": "14b1a2b6",
        "outputId": "c101e49e-71af-4641-a7e6-62091337ae7d"
      },
      "outputs": [
        {
          "name": "stdout",
          "output_type": "stream",
          "text": [
            "{1, 2}\n",
            "{1, 2}\n"
          ]
        }
      ],
      "source": [
        "a = {1, 2, 3, 4}\n",
        "b = {3, 4, 5, 6}\n",
        "print(a.difference(b))\n",
        "print(a - b)"
      ]
    },
    {
      "cell_type": "markdown",
      "id": "99ecf48b",
      "metadata": {
        "id": "99ecf48b"
      },
      "source": [
        "Симметрическая разность двух множеств - множество, состоящее из элементов, входящих в одно и только одно из данных множеств:"
      ]
    },
    {
      "cell_type": "code",
      "execution_count": null,
      "id": "f58dd2af",
      "metadata": {
        "id": "f58dd2af",
        "outputId": "805ff819-ad0d-44a8-a0e9-e4ddfc920af7"
      },
      "outputs": [
        {
          "name": "stdout",
          "output_type": "stream",
          "text": [
            "{1, 2, 5, 6}\n",
            "{1, 2, 5, 6}\n"
          ]
        }
      ],
      "source": [
        "a = {1, 2, 3, 4}\n",
        "b = {3, 4, 5, 6}\n",
        "print(a.symmetric_difference(b))\n",
        "print(a ^ b)"
      ]
    },
    {
      "cell_type": "code",
      "execution_count": null,
      "id": "2fd6de37",
      "metadata": {
        "id": "2fd6de37",
        "outputId": "d100f7ea-7d95-4ff1-c21a-30daa15fc516"
      },
      "outputs": [
        {
          "name": "stdout",
          "output_type": "stream",
          "text": [
            "False\n",
            "False\n",
            "True\n",
            "True\n"
          ]
        }
      ],
      "source": [
        "a = {1, 2, 3, 4}\n",
        "b = {3, 4, 5, 6}\n",
        "print(a <= b)\n",
        "print(a.issubset(b))\n",
        "\n",
        "c = {3, 4}\n",
        "d = {3, 4, 5, 6}\n",
        "print(c <= d)\n",
        "print(c.issubset(d))"
      ]
    },
    {
      "cell_type": "code",
      "execution_count": null,
      "id": "794fe0bb",
      "metadata": {
        "id": "794fe0bb",
        "outputId": "207297a0-e3d5-4332-8247-bf8077d75cbe"
      },
      "outputs": [
        {
          "name": "stdout",
          "output_type": "stream",
          "text": [
            "True\n",
            "False\n"
          ]
        }
      ],
      "source": [
        "a = {3, 4, 5, 6}\n",
        "b = {3, 4, 5, 6}\n",
        "print(a <= b)\n",
        "print(a < b)"
      ]
    },
    {
      "cell_type": "markdown",
      "id": "e978e84a",
      "metadata": {
        "id": "e978e84a"
      },
      "source": [
        "Существуют также операции наподобие `+=`, `-=`, `*=`, `/=`, `//=`:"
      ]
    },
    {
      "cell_type": "code",
      "execution_count": null,
      "id": "c3e59589",
      "metadata": {
        "id": "c3e59589",
        "outputId": "8378f920-f1bc-4312-ee59-3d873b932297"
      },
      "outputs": [
        {
          "name": "stdout",
          "output_type": "stream",
          "text": [
            "{3, 4}\n"
          ]
        }
      ],
      "source": [
        "a = {1, 2, 3, 4}\n",
        "b = {3, 4, 5, 6}\n",
        "a &= b\n",
        "print(a)"
      ]
    },
    {
      "cell_type": "code",
      "execution_count": null,
      "id": "82ff0931",
      "metadata": {
        "id": "82ff0931",
        "outputId": "eaa17c87-35b4-4f22-cffb-7a83d30c5c72"
      },
      "outputs": [
        {
          "name": "stdout",
          "output_type": "stream",
          "text": [
            "{3, 4}\n"
          ]
        }
      ],
      "source": [
        "a = {1, 2, 3, 4}\n",
        "b = {3, 4, 5, 6}\n",
        "a.intersection_update(b)\n",
        "print(a)"
      ]
    },
    {
      "cell_type": "code",
      "execution_count": null,
      "id": "9e19f911",
      "metadata": {
        "id": "9e19f911",
        "outputId": "cce28602-42ea-4a9b-8a5b-53b86dc6fd0a"
      },
      "outputs": [
        {
          "name": "stdout",
          "output_type": "stream",
          "text": [
            "{1, 2, 3, 4, 5, 6}\n"
          ]
        }
      ],
      "source": [
        "a = {1, 2, 3, 4}\n",
        "b = {3, 4, 5, 6}\n",
        "a |= b\n",
        "print(a)"
      ]
    },
    {
      "cell_type": "code",
      "execution_count": null,
      "id": "3e07d561",
      "metadata": {
        "id": "3e07d561"
      },
      "outputs": [],
      "source": [
        "a = {1, 2, 3, 4}\n",
        "b = {3, 4, 5, 6}\n",
        "a.update(b)\n",
        "print(a)"
      ]
    },
    {
      "cell_type": "code",
      "execution_count": null,
      "id": "beabdba5",
      "metadata": {
        "id": "beabdba5"
      },
      "outputs": [],
      "source": [
        "a = {1, 2, 3, 4}\n",
        "b = {3, 4, 5, 6}\n",
        "a -= b\n",
        "print(a)"
      ]
    },
    {
      "cell_type": "code",
      "execution_count": null,
      "id": "0ccfb2a9",
      "metadata": {
        "id": "0ccfb2a9"
      },
      "outputs": [],
      "source": [
        "a = {1, 2, 3, 4}\n",
        "b = {3, 4, 5, 6}\n",
        "a.difference_update(b)\n",
        "print(a)"
      ]
    },
    {
      "cell_type": "markdown",
      "id": "c6ac45f8",
      "metadata": {
        "id": "c6ac45f8"
      },
      "source": [
        "### Сводная таблица операций с множествами:\n",
        "Операция  | Альтернатива | Значение \n",
        "---|---|---\n",
        "`A \\| B` | `A.union(B)`  | Возвращает множество, являющееся объединением множеств A и B. \n",
        "`A \\|= B` | `A.update(B)` | Записывает в A объединение множеств A и B. \n",
        "`A & B` | `A.intersection(B)`  | Возвращает множество, являющееся пересечением множеств A и B. \n",
        "`A &= B` | `A.intersection_update(B)`  | Записывает в A пересечение множеств A и B. \n",
        "`A - B` | `A.difference(B)`  | Возвращает разность множеств A и B (элементы, входящие в A, но не входящие в B). \n",
        "`A -= B` | `A.difference_update(B)`  | Записывает в A разность множеств A и B. \n",
        "`A ^ B` | `A.symmetric_difference(B)`  | Возвращает симметрическую разность множеств A и B (элементы, входящие в A или в B, но не в оба из них одновременно). \n",
        "`A ^= B` | `A.symmetric_difference_update(B)`  | Записывает в A симметрическую разность множеств A и B. \n",
        "`A <= B` | `A.issubset(B)`  | Возвращает True, если A является подмножеством B. \n",
        "`A >= B` | `A.issuperset(B)`  | Возвращает True, если B является подмножеством A. \n",
        "`A < B`  | | Эквивалентно A <= B and A != B \n",
        "`A > B`  | | Эквивалентно A >= B and A != B \n",
        "\n",
        "\n"
      ]
    },
    {
      "cell_type": "markdown",
      "id": "203fa32c",
      "metadata": {
        "id": "203fa32c"
      },
      "source": [
        "**Упражнение 0**. Вывести на экран все элементы множества A, которых нет в множестве B. Дописать код ниже."
      ]
    },
    {
      "cell_type": "code",
      "execution_count": null,
      "id": "2f7da262",
      "metadata": {
        "id": "2f7da262",
        "outputId": "0972aebd-51ce-4419-dffc-569d78eda677"
      },
      "outputs": [
        {
          "name": "stdout",
          "output_type": "stream",
          "text": [
            "{'q', 'w', 'f', 'l', 'p'}\n"
          ]
        }
      ],
      "source": [
        "A = set('bqlpzlkwehrlulsdhfliuywemrlkjhsdlfjhlzxcovt')\n",
        "B = set('zmxcvnboaiyerjhbziuxdytvasenbriutsdvinjhgik')\n",
        "print(A-B)"
      ]
    },
    {
      "cell_type": "markdown",
      "id": "3661d47e",
      "metadata": {
        "id": "3661d47e"
      },
      "source": [
        "**Упражнение 1.** Считать через `input` строку, состоящую из 3 слов и найти буквы, входящие в каждое из слов."
      ]
    },
    {
      "cell_type": "code",
      "execution_count": null,
      "id": "d5aa2772",
      "metadata": {
        "id": "d5aa2772",
        "outputId": "83f23e4c-69ae-49c5-a4fd-051cf0f9a047"
      },
      "outputs": [
        {
          "name": "stdout",
          "output_type": "stream",
          "text": [
            "gtr hte jtw\n",
            "{'t'}\n"
          ]
        }
      ],
      "source": [
        "a = list(input().split())\n",
        "A, B, C = set(a[0]), set(a[1]), set(a[2])\n",
        "print(A&B&C)"
      ]
    },
    {
      "cell_type": "markdown",
      "id": "b18e5d22",
      "metadata": {
        "id": "b18e5d22"
      },
      "source": [
        "**Упражнение 2.** Считать через `input` строку, состоящую из произвольного числа слов и найти буквы, входящие в каждое из слов."
      ]
    },
    {
      "cell_type": "code",
      "execution_count": null,
      "id": "157e055b",
      "metadata": {
        "id": "157e055b",
        "outputId": "56ac4fa2-3e58-4010-9dc8-7d255a0ebbd2"
      },
      "outputs": [
        {
          "name": "stdout",
          "output_type": "stream",
          "text": [
            "gt gt gt yuuhuhg\n",
            "{'g', 't'}\n"
          ]
        }
      ],
      "source": [
        "a = list(map(set, input().split()))\n",
        "if len(a) == 1:\n",
        "    print(a[0])\n",
        "    quit()\n",
        "if len(a) == 2:\n",
        "    print(a[0] & a[1])\n",
        "    quit()\n",
        "s = a[0] & a[1]\n",
        "for i in range(2, len(a)):\n",
        "    s = s & a[i]\n",
        "if len(s) == 0:\n",
        "    print('NONE')\n",
        "else:\n",
        "    print(s)"
      ]
    },
    {
      "cell_type": "markdown",
      "id": "e3534537",
      "metadata": {
        "id": "e3534537"
      },
      "source": [
        "**Упражнение 3\\*.** Считать через `input` несколько чисел через пробел и найти цифры, входящие в каждое из чисел. Использовать `while`."
      ]
    },
    {
      "cell_type": "code",
      "execution_count": null,
      "id": "8808e2e6",
      "metadata": {
        "id": "8808e2e6",
        "outputId": "4c4527e5-04b3-415e-f47d-63bb0bdb7b3f"
      },
      "outputs": [
        {
          "name": "stdout",
          "output_type": "stream",
          "text": [
            "12 13 14 15 16\n",
            "{'1'}\n"
          ]
        }
      ],
      "source": [
        "a = list(map(set, input().split()))\n",
        "if len(a) == 1:\n",
        "    print(a[0])\n",
        "    quit()\n",
        "if len(a) == 2:\n",
        "    print(a[0] & a[1])\n",
        "    quit()\n",
        "s = a[0] & a[1]\n",
        "k = len(s)\n",
        "i = 2\n",
        "while i < k:\n",
        "    s = s & a[i]\n",
        "if len(s) == 0:\n",
        "    print('NONE')\n",
        "else:\n",
        "    print(s)"
      ]
    },
    {
      "cell_type": "markdown",
      "id": "4c401aa6",
      "metadata": {
        "id": "4c401aa6"
      },
      "source": [
        "# Dict."
      ]
    },
    {
      "cell_type": "markdown",
      "id": "b1a52ec5",
      "metadata": {
        "id": "b1a52ec5"
      },
      "source": [
        "Кроме множеств также часто используются словари. Элемент словаря `dict` - это пара `ключ: значение`.\n",
        "Ключи позволяют обращаться к данным не по индексу, как это реализовано в списках, а по любому удобному значению.\n",
        "\n",
        "### Сводная таблица по операциям со словарями:\n",
        "Операция  | Значение \n",
        "---|---\n",
        "`value = A[key]` | Получение элемента по ключу. Если элемента с заданным ключом в словаре нет, то возникает исключение KeyError. \n",
        "`value = A.get(key)` | Получение элемента по ключу. Если элемента в словаре нет, то get возвращает None. \n",
        "`value = A.get(key, default_value)` | То же, но вместо None метод get возвращает default_value. \n",
        "`key in A` | Проверить принадлежность ключа словарю. \n",
        "`key not in A` | То же, что not key in A. \n",
        "`A[key] = value` | Добавление нового элемента в словарь. \n",
        "`del A[key]` | Удаление пары ключ-значение с ключом key. Возбуждает исключение KeyError, если такого ключа нет. \n",
        "`if key in A: del A[key]` | Удаление пары ключ-значение с предварительной проверкой наличия ключа. \n",
        "`value = A.pop(key)` | Удаление пары ключ-значение с ключом key и возврат значения удаляемого элемента.Если такого ключа нет, то возбуждается KeyError. \n",
        "`value = A.pop(key, default_value)` | То же, но вместо генерации исключения возвращается default_value. \n",
        "`A.pop(key, None)` | Это позволяет проще всего организовать безопасное удаление элемента из словаря. \n",
        "`len(A)` | Возвращает количество пар ключ-значение, хранящихся в словаре. \n"
      ]
    },
    {
      "cell_type": "code",
      "execution_count": null,
      "id": "b85122e9",
      "metadata": {
        "id": "b85122e9",
        "outputId": "17413e35-65af-4095-e0ae-2dddc5e2d7e1"
      },
      "outputs": [
        {
          "name": "stdout",
          "output_type": "stream",
          "text": [
            "Берлин\n"
          ]
        }
      ],
      "source": [
        "d = {\"Россия\": \"Москва\", \"Франция\": \"Париж\", \"Германия\": \"Берлин\"}\n",
        "print(d[\"Германия\"])"
      ]
    },
    {
      "cell_type": "markdown",
      "id": "eef7c663",
      "metadata": {
        "id": "eef7c663"
      },
      "source": [
        "Такой способ хранения данных в данном случае является более естественным и удобным. Создание словаря и добавление элементов:"
      ]
    },
    {
      "cell_type": "code",
      "execution_count": null,
      "id": "612972f3",
      "metadata": {
        "id": "612972f3",
        "outputId": "e4ce026d-018d-4010-f83c-c764962c3b40"
      },
      "outputs": [
        {
          "name": "stdout",
          "output_type": "stream",
          "text": [
            "{'Россия': 'Москва'}\n"
          ]
        }
      ],
      "source": [
        "d = dict()\n",
        "d[\"Россия\"] = \"Москва\"\n",
        "print(d)"
      ]
    },
    {
      "cell_type": "markdown",
      "id": "fb99a70b",
      "metadata": {
        "id": "fb99a70b"
      },
      "source": [
        "Можно обращаться к ключам словаря, к значениям словаря, итерировать по ключам и по парам ключ-значение."
      ]
    },
    {
      "cell_type": "code",
      "execution_count": null,
      "id": "0c99a37e",
      "metadata": {
        "id": "0c99a37e",
        "outputId": "724b873f-2a26-48a7-aa7c-bb88a468e726"
      },
      "outputs": [
        {
          "name": "stdout",
          "output_type": "stream",
          "text": [
            "dict_keys(['Россия', 'Франция', 'Германия'])\n",
            "dict_values(['Москва', 'Париж', 'Берлин'])\n"
          ]
        }
      ],
      "source": [
        "d = {\"Россия\": \"Москва\", \"Франция\": \"Париж\", \"Германия\": \"Берлин\"}\n",
        "print(d.keys())\n",
        "print(d.values())"
      ]
    },
    {
      "cell_type": "code",
      "execution_count": null,
      "id": "c4c30767",
      "metadata": {
        "id": "c4c30767",
        "outputId": "db607234-2158-4a26-f4ad-524e22b1127c"
      },
      "outputs": [
        {
          "name": "stdout",
          "output_type": "stream",
          "text": [
            "Москва\n",
            "Париж\n",
            "Берлин\n"
          ]
        }
      ],
      "source": [
        "for k in d.keys():\n",
        "    print(d[k])\n",
        "    "
      ]
    },
    {
      "cell_type": "code",
      "execution_count": null,
      "id": "95a8fdf1",
      "metadata": {
        "id": "95a8fdf1",
        "outputId": "22c5f461-b9ca-44cd-f730-fb4df53e4bc5"
      },
      "outputs": [
        {
          "name": "stdout",
          "output_type": "stream",
          "text": [
            "Россия Москва\n",
            "Франция Париж\n",
            "Германия Берлин\n"
          ]
        }
      ],
      "source": [
        "for k, v in d.items():\n",
        "    print(k, v)"
      ]
    },
    {
      "cell_type": "code",
      "execution_count": null,
      "id": "7304ca5e",
      "metadata": {
        "id": "7304ca5e",
        "outputId": "dd99dc64-0edc-41e0-d728-dd3e9dd07c9f"
      },
      "outputs": [
        {
          "name": "stdout",
          "output_type": "stream",
          "text": [
            "dict_items([('Россия', 'Москва'), ('Франция', 'Париж'), ('Германия', 'Берлин')])\n"
          ]
        }
      ],
      "source": [
        "print(d.items())"
      ]
    },
    {
      "cell_type": "code",
      "execution_count": null,
      "id": "5c088447",
      "metadata": {
        "id": "5c088447",
        "outputId": "38544d00-ff31-4299-8dd3-f97af59722d4"
      },
      "outputs": [
        {
          "name": "stdout",
          "output_type": "stream",
          "text": [
            "[('Россия', 'Москва'), ('Франция', 'Париж'), ('Германия', 'Берлин')]\n"
          ]
        }
      ],
      "source": [
        "print(list(d.items()))"
      ]
    },
    {
      "cell_type": "markdown",
      "id": "f6560523",
      "metadata": {
        "id": "f6560523"
      },
      "source": [
        "Можем сортировать такие объекты, например, по странам в лексикографическом порядке:"
      ]
    },
    {
      "cell_type": "code",
      "execution_count": null,
      "id": "c84c8635",
      "metadata": {
        "id": "c84c8635",
        "outputId": "adade159-96b1-4034-b303-8951acf29ddc"
      },
      "outputs": [
        {
          "name": "stdout",
          "output_type": "stream",
          "text": [
            "[('Германия', 'Берлин'), ('Россия', 'Москва'), ('Франция', 'Париж')]\n"
          ]
        }
      ],
      "source": [
        "d = list(d.items())\n",
        "d = sorted(d, key = lambda x: x[0])\n",
        "print(d)"
      ]
    },
    {
      "cell_type": "markdown",
      "id": "59e0e44f",
      "metadata": {
        "id": "59e0e44f"
      },
      "source": [
        "# Set comprehensions. Dict comprehensions."
      ]
    },
    {
      "cell_type": "markdown",
      "id": "83b2e7ad",
      "metadata": {
        "id": "83b2e7ad"
      },
      "source": [
        "Можно генерировать множества и словари по аналогии со списками:"
      ]
    },
    {
      "cell_type": "code",
      "execution_count": null,
      "id": "e19ab542",
      "metadata": {
        "id": "e19ab542",
        "outputId": "bbcc3216-0a74-4b03-94b6-962829c64df7"
      },
      "outputs": [
        {
          "name": "stdout",
          "output_type": "stream",
          "text": [
            "[-5, -4, -3, -2, -1, 0, 1, 2, 3, 4]\n",
            "{0, 1, 2, 3, 4, -1, -5, -4, -3, -2}\n",
            "[5, 4, 3, 2, 1, 0, 1, 2, 3, 4]\n",
            "{0, 1, 2, 3, 4, 5}\n"
          ]
        }
      ],
      "source": [
        "a = [i for i in range(-5, 5)]\n",
        "print(a)\n",
        "a = {i for i in range(-5, 5)}\n",
        "print(a)\n",
        "a = [abs(i) for i in range(-5, 5)]\n",
        "print(a)\n",
        "a = {abs(i) for i in range(-5, 5)}\n",
        "print(a)"
      ]
    },
    {
      "cell_type": "markdown",
      "id": "5e1eae9b",
      "metadata": {
        "id": "5e1eae9b"
      },
      "source": [
        "Для определения порядкового номера символа в таблице символов ASCII используется функция `ord`:"
      ]
    },
    {
      "cell_type": "code",
      "execution_count": null,
      "id": "0a141a96",
      "metadata": {
        "id": "0a141a96",
        "outputId": "e3630fd7-be67-4ac8-a7aa-599bda66c36b"
      },
      "outputs": [
        {
          "name": "stdout",
          "output_type": "stream",
          "text": [
            "97\n",
            "65 90 97 122\n"
          ]
        }
      ],
      "source": [
        "s = \"a\"\n",
        "print(ord(s))\n",
        "print(ord('A'), ord('Z'), ord('a'), ord('z'))"
      ]
    },
    {
      "cell_type": "markdown",
      "id": "8ce05fc6",
      "metadata": {
        "id": "8ce05fc6"
      },
      "source": [
        "Обратная к ней функция, возвращающая символ по его порядковому номеру - `chr`:"
      ]
    },
    {
      "cell_type": "code",
      "execution_count": null,
      "id": "0974a43c",
      "metadata": {
        "id": "0974a43c",
        "outputId": "eb6675f7-5b4a-426e-9015-a2c863692305"
      },
      "outputs": [
        {
          "name": "stdout",
          "output_type": "stream",
          "text": [
            "A Z a z\n"
          ]
        }
      ],
      "source": [
        "print(chr(65), chr(90), chr(97), chr(122))"
      ]
    },
    {
      "cell_type": "markdown",
      "id": "cb0ffe6d",
      "metadata": {
        "id": "cb0ffe6d"
      },
      "source": [
        "Создадим словарь, состоящий из пар элементов `номер буквы в таблице ASCII`: `буква`."
      ]
    },
    {
      "cell_type": "code",
      "execution_count": null,
      "id": "4aed5b7e",
      "metadata": {
        "id": "4aed5b7e",
        "outputId": "0f93a7ae-cc92-4c66-8f2e-d0cd92e6559e"
      },
      "outputs": [
        {
          "name": "stdout",
          "output_type": "stream",
          "text": [
            "{65: 'A', 66: 'B', 67: 'C', 68: 'D', 69: 'E', 70: 'F', 71: 'G', 72: 'H', 73: 'I', 74: 'J', 75: 'K', 76: 'L', 77: 'M', 78: 'N', 79: 'O', 80: 'P', 81: 'Q', 82: 'R', 83: 'S', 84: 'T', 85: 'U', 86: 'V', 87: 'W', 88: 'X', 89: 'Y', 90: 'Z'}\n",
            "F\n"
          ]
        }
      ],
      "source": [
        "d = {i: chr(i) for i in range(65, 91)}\n",
        "print(d)\n",
        "print(d[70])"
      ]
    },
    {
      "cell_type": "markdown",
      "id": "c1e21462",
      "metadata": {
        "id": "c1e21462"
      },
      "source": [
        "**Упражнение 4.** Создайте аналогичный словарь для маленьких букв, выведите его, затем добавьте в него большие буквы и выведите итоговый словарь."
      ]
    },
    {
      "cell_type": "code",
      "execution_count": 47,
      "id": "bdc88da2",
      "metadata": {
        "colab": {
          "base_uri": "https://localhost:8080/"
        },
        "id": "bdc88da2",
        "outputId": "aa212dba-b2e3-4b85-edb5-c8f981786841"
      },
      "outputs": [
        {
          "output_type": "stream",
          "name": "stdout",
          "text": [
            "{65: 'A', 66: 'B', 67: 'C', 68: 'D', 69: 'E', 70: 'F', 71: 'G', 72: 'H', 73: 'I', 74: 'J', 75: 'K', 76: 'L', 77: 'M', 78: 'N', 79: 'O', 80: 'P', 81: 'Q', 82: 'R', 83: 'S', 84: 'T', 85: 'U', 86: 'V', 87: 'W', 88: 'X', 89: 'Y', 90: 'Z'}\n",
            "{65: 'A', 66: 'B', 67: 'C', 68: 'D', 69: 'E', 70: 'F', 71: 'G', 72: 'H', 73: 'I', 74: 'J', 75: 'K', 76: 'L', 77: 'M', 78: 'N', 79: 'O', 80: 'P', 81: 'Q', 82: 'R', 83: 'S', 84: 'T', 85: 'U', 86: 'V', 87: 'W', 88: 'X', 89: 'Y', 90: 'Z', 97: 'a', 98: 'b', 99: 'c', 100: 'd', 101: 'e', 102: 'f', 103: 'g', 104: 'h', 105: 'i', 106: 'j', 107: 'k', 108: 'l', 109: 'm', 110: 'n', 111: 'o', 112: 'p', 113: 'q', 114: 'r', 115: 's', 116: 't', 117: 'u', 118: 'v', 119: 'w', 120: 'x', 121: 'y'}\n"
          ]
        }
      ],
      "source": [
        "D = {i: chr(i) for i in range(65, 91)}\n",
        "print(D)\n",
        "d = {i: chr(i) for i in range(97, 122)}\n",
        "D = {**D, ** d}\n",
        "print(D)"
      ]
    },
    {
      "cell_type": "markdown",
      "id": "a7c957f4",
      "metadata": {
        "id": "a7c957f4"
      },
      "source": [
        "**Упражнение 5.** Создайте словарь, в котором каждой букве (как ключу) будет соответствовать ее порядковый номер в алфавите (значение). Рекомендация: использовать функции `keys`, `values` или `items` для словаря из предыдущего упражнения, чтобы создать новый."
      ]
    },
    {
      "cell_type": "code",
      "execution_count": null,
      "id": "70071da3",
      "metadata": {
        "id": "70071da3",
        "outputId": "13974b8a-3803-404f-d19e-3b4025122d82"
      },
      "outputs": [
        {
          "name": "stdout",
          "output_type": "stream",
          "text": [
            "{1: 'a', 2: 'b', 3: 'c', 4: 'd', 5: 'e', 6: 'f', 7: 'g', 8: 'h', 9: 'i', 10: 'j', 11: 'k', 12: 'l', 13: 'm', 14: 'n', 15: 'o', 16: 'p', 17: 'q', 18: 'r', 19: 's', 20: 't', 21: 'u', 22: 'v', 23: 'w', 24: 'x', 25: 'y'}\n"
          ]
        }
      ],
      "source": [
        "abc = sorted(list(d.items()), key = lambda x: x[0])\n",
        "for i in range(len(abc)): abc[i] = (i+1, abc[i][1])\n",
        "g = {}\n",
        "g = dict(abc)\n",
        "print(g)"
      ]
    },
    {
      "cell_type": "markdown",
      "id": "d4d2ca80",
      "metadata": {
        "id": "d4d2ca80"
      },
      "source": [
        "**Упражнение 6.** Считайте слово с клавиатуры и найдите для него сумму номеров букв. Если некоторые буквы в слове повторяются (используйте такое слово), нужно считать только по уникальным буквам. Например, для строк 'abc' и 'abcbc' сумма будет 1+2+3=6, для xyz или zyxyz 24+25+26=75"
      ]
    },
    {
      "cell_type": "code",
      "execution_count": null,
      "id": "ab97878c",
      "metadata": {
        "id": "ab97878c",
        "outputId": "81573e54-b470-4e90-adba-502b77c770f6"
      },
      "outputs": [
        {
          "name": "stdout",
          "output_type": "stream",
          "text": [
            "abcabc\n",
            "6\n"
          ]
        }
      ],
      "source": [
        "a = set(input())\n",
        "s = 0\n",
        "for i in a:\n",
        "    s += ord(i) - 96\n",
        "print(s)"
      ]
    },
    {
      "cell_type": "markdown",
      "id": "8cb4046e",
      "metadata": {
        "id": "8cb4046e"
      },
      "source": [
        "**Упражнение 7.** Считайте с клавиатуры количество пар синонимов, затем сами пары синонимов, затем одно из слов среди этих пар. Выведите его синоним. Допишите код, заменив все TODO. Пример ввода:\n",
        "\n",
        "    3\n",
        "    Hello Hi\n",
        "    Bye Goodbye\n",
        "    List Array\n",
        "    Goodbye"
      ]
    },
    {
      "cell_type": "code",
      "execution_count": null,
      "id": "7aea4c21",
      "metadata": {
        "id": "7aea4c21",
        "outputId": "f0689a47-012a-40f1-f8be-94d6d0cbbb29"
      },
      "outputs": [
        {
          "name": "stdout",
          "output_type": "stream",
          "text": [
            "3\n",
            "he hi\n",
            "hi ho\n",
            "rar rir\n",
            "hi\n",
            "ho\n"
          ]
        }
      ],
      "source": [
        "n = int(input())\n",
        "d = dict()\n",
        "for i in range(n):\n",
        "    s1, s2 = input().split()\n",
        "    d[s1] = s2\n",
        "    d[s2] = s1\n",
        "s = input()\n",
        "print(d[s])"
      ]
    },
    {
      "cell_type": "markdown",
      "id": "d4f833ac",
      "metadata": {
        "id": "d4f833ac"
      },
      "source": [
        "# Частотный анализ."
      ]
    },
    {
      "cell_type": "markdown",
      "id": "20546c74",
      "metadata": {
        "id": "20546c74"
      },
      "source": [
        "Вместо использования метода `count` для подсчета числа вхождений символа в большой текст лучше использовать `dict`. Для многократного поиска это будет работать быстрее, так как мы заполним словарь за один проход по данному тексту."
      ]
    },
    {
      "cell_type": "code",
      "execution_count": null,
      "id": "97cbd7e4",
      "metadata": {
        "id": "97cbd7e4",
        "outputId": "06c02ee2-545a-45d3-98f7-a8bd14bd1be4"
      },
      "outputs": [
        {
          "name": "stdout",
          "output_type": "stream",
          "text": [
            "{'a': 5, 'b': 2, 'r': 2, 'c': 1, 'd': 1}\n"
          ]
        }
      ],
      "source": [
        "s = \"abracadabra\"\n",
        "d = dict()\n",
        "for i in s:\n",
        "    if i in d:\n",
        "        d[i] += 1\n",
        "    else:\n",
        "        d[i] = 1\n",
        "print(d)"
      ]
    },
    {
      "cell_type": "code",
      "execution_count": null,
      "id": "1e25a4b0",
      "metadata": {
        "id": "1e25a4b0",
        "outputId": "6d46842b-3a60-4d38-dc8f-466e37f28774"
      },
      "outputs": [
        {
          "name": "stdout",
          "output_type": "stream",
          "text": [
            "5\n",
            "5\n"
          ]
        }
      ],
      "source": [
        "print(s.count('a'))\n",
        "print(d['a'])"
      ]
    },
    {
      "cell_type": "code",
      "execution_count": null,
      "id": "794b68f1",
      "metadata": {
        "id": "794b68f1"
      },
      "outputs": [],
      "source": [
        "s = \"abracadabra\" * 1000000\n",
        "print(s[:100])"
      ]
    },
    {
      "cell_type": "code",
      "execution_count": null,
      "id": "aaa4527a",
      "metadata": {
        "id": "aaa4527a"
      },
      "outputs": [],
      "source": [
        "import time\n",
        "d = dict()\n",
        "for i in s:\n",
        "    if i in d:\n",
        "        d[i] += 1\n",
        "    else:\n",
        "        d[i] = 1\n",
        "t1 = time.time()\n",
        "print(d['a'])\n",
        "t2 = time.time()\n",
        "print(t2 - t1)"
      ]
    },
    {
      "cell_type": "code",
      "execution_count": null,
      "id": "0225f5e3",
      "metadata": {
        "id": "0225f5e3"
      },
      "outputs": [],
      "source": [
        "t3 = time.time()\n",
        "print(s.count('a'))\n",
        "t4 = time.time()\n",
        "print(t4 - t3)"
      ]
    },
    {
      "cell_type": "markdown",
      "id": "fb903399",
      "metadata": {
        "id": "fb903399"
      },
      "source": [
        "**Упражнение 8**. Считайте с клавиатуры строку, удалите из нее все цифры и пробелы. Создайте словарь, в котором ключами будут уникальные символы, а значениями их частота вхождения. Частотой вхождения называется отношение числа вхождений данного символа в исходную строку к числу символов в исходной строке."
      ]
    },
    {
      "cell_type": "code",
      "execution_count": null,
      "id": "a82c1e51",
      "metadata": {
        "id": "a82c1e51",
        "outputId": "91ec1989-14f0-412c-a22e-2e66b2dc8a87"
      },
      "outputs": [
        {
          "name": "stdout",
          "output_type": "stream",
          "text": [
            "gtr1frs gtg\n",
            "{'g': 0.2727272727272727, 't': 0.18181818181818182, 'r': 0.18181818181818182, 'f': 0.09090909090909091, 's': 0.09090909090909091}\n"
          ]
        }
      ],
      "source": [
        "import re\n",
        "a = input()\n",
        "le = len(a)\n",
        "a = re.split(\" |1|2|3|4|5|6|7|8|9|0\", a)\n",
        "s = ''\n",
        "for i in a:\n",
        "    s += i\n",
        "d = dict()\n",
        "for i in s:\n",
        "    if i in d:\n",
        "        d[i] += 1\n",
        "    else:\n",
        "        d[i] = 1\n",
        "for i in set(s):\n",
        "    d[i] = d[i]/le\n",
        "print(d)\n",
        "    \n"
      ]
    },
    {
      "cell_type": "markdown",
      "id": "b082dac3",
      "metadata": {
        "id": "b082dac3"
      },
      "source": [
        "# Collections."
      ]
    },
    {
      "cell_type": "markdown",
      "id": "ce4947f8",
      "metadata": {
        "id": "ce4947f8"
      },
      "source": [
        "Существуют также другие стандартные коллекции, которые позволяют решать некоторые задачи еще проще."
      ]
    },
    {
      "cell_type": "code",
      "execution_count": null,
      "id": "57a20035",
      "metadata": {
        "id": "57a20035"
      },
      "outputs": [],
      "source": [
        "import collections\n",
        "cnt = collections.Counter()\n",
        "for word in ['red', 'blue', 'red', 'green', 'blue', 'blue']:\n",
        "    cnt[word] += 1\n",
        "cnt"
      ]
    },
    {
      "cell_type": "code",
      "execution_count": null,
      "id": "81553050",
      "metadata": {
        "id": "81553050"
      },
      "outputs": [],
      "source": [
        "cnt['red']"
      ]
    },
    {
      "cell_type": "markdown",
      "id": "0834fd23",
      "metadata": {
        "id": "0834fd23"
      },
      "source": [
        "Можно сократить запись, переимпортировав из библиотеки конкретный модуль:"
      ]
    },
    {
      "cell_type": "code",
      "execution_count": null,
      "id": "4dd6f478",
      "metadata": {
        "id": "4dd6f478"
      },
      "outputs": [],
      "source": [
        "from collections import Counter\n",
        "c = Counter(a=4, b=2, c=0, d=-2)\n",
        "print(sorted(c.elements()))"
      ]
    },
    {
      "cell_type": "code",
      "execution_count": null,
      "id": "d4c0fb62",
      "metadata": {
        "id": "d4c0fb62"
      },
      "outputs": [],
      "source": [
        "print(collections.Counter('abracadabra').most_common(3))"
      ]
    },
    {
      "cell_type": "code",
      "execution_count": null,
      "id": "77eec292",
      "metadata": {
        "id": "77eec292"
      },
      "outputs": [],
      "source": [
        "c = Counter(a=4, b=2, c=0, d=-2)\n",
        "d = Counter(a=1, b=2, c=3, d=4)\n",
        "c.subtract(d)\n",
        "print(c)"
      ]
    },
    {
      "cell_type": "code",
      "execution_count": null,
      "id": "cb239bab",
      "metadata": {
        "id": "cb239bab"
      },
      "outputs": [],
      "source": [
        "c = Counter(a=10, b=5, c=0)\n",
        "c.total() # new for Python 3.10+"
      ]
    },
    {
      "cell_type": "markdown",
      "id": "bfddca35",
      "metadata": {
        "id": "bfddca35"
      },
      "source": [
        "С другими коллекциями вы можете познакомиться самостоятельно, их использование выходит за рамки упражнений и контеста."
      ]
    },
    {
      "cell_type": "code",
      "execution_count": null,
      "id": "38c7c7d0",
      "metadata": {
        "id": "38c7c7d0"
      },
      "outputs": [],
      "source": []
    }
  ],
  "metadata": {
    "kernelspec": {
      "display_name": "Python 3 (ipykernel)",
      "language": "python",
      "name": "python3"
    },
    "language_info": {
      "codemirror_mode": {
        "name": "ipython",
        "version": 3
      },
      "file_extension": ".py",
      "mimetype": "text/x-python",
      "name": "python",
      "nbconvert_exporter": "python",
      "pygments_lexer": "ipython3",
      "version": "3.9.12"
    },
    "colab": {
      "provenance": []
    }
  },
  "nbformat": 4,
  "nbformat_minor": 5
}